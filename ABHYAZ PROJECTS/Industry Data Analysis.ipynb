{
 "cells": [
  {
   "cell_type": "code",
   "execution_count": 2,
   "id": "5f8be999",
   "metadata": {},
   "outputs": [],
   "source": [
    "import pandas as pd\n",
    "import numpy as np \n",
    "import plotly.express as px\n",
    "\n",
    "import warnings\n",
    "warnings.filterwarnings('ignore')"
   ]
  },
  {
   "cell_type": "code",
   "execution_count": 3,
   "id": "069a06c0",
   "metadata": {},
   "outputs": [],
   "source": [
    "import os\n",
    "os.getcwd()\n",
    "os.chdir(\"D:\\ABHYAZ INTERNSHIP\\MTC\")"
   ]
  },
  {
   "cell_type": "code",
   "execution_count": 3,
   "id": "b4069070",
   "metadata": {},
   "outputs": [
    {
     "data": {
      "text/html": [
       "<div>\n",
       "<style scoped>\n",
       "    .dataframe tbody tr th:only-of-type {\n",
       "        vertical-align: middle;\n",
       "    }\n",
       "\n",
       "    .dataframe tbody tr th {\n",
       "        vertical-align: top;\n",
       "    }\n",
       "\n",
       "    .dataframe thead th {\n",
       "        text-align: right;\n",
       "    }\n",
       "</style>\n",
       "<table border=\"1\" class=\"dataframe\">\n",
       "  <thead>\n",
       "    <tr style=\"text-align: right;\">\n",
       "      <th></th>\n",
       "      <th>S No</th>\n",
       "      <th>Company Name</th>\n",
       "      <th>Name</th>\n",
       "      <th>Email ID</th>\n",
       "      <th>Designation</th>\n",
       "      <th>Mobile No</th>\n",
       "      <th>Address</th>\n",
       "      <th>Pincode</th>\n",
       "      <th>City</th>\n",
       "      <th>Website</th>\n",
       "      <th>Company Type</th>\n",
       "      <th>State</th>\n",
       "      <th>Country</th>\n",
       "      <th>Phone</th>\n",
       "      <th>Company details</th>\n",
       "      <th>Unnamed: 15</th>\n",
       "    </tr>\n",
       "  </thead>\n",
       "  <tbody>\n",
       "    <tr>\n",
       "      <th>0</th>\n",
       "      <td>1</td>\n",
       "      <td>Om Sai Telecom</td>\n",
       "      <td>Sunder Singh</td>\n",
       "      <td>NaN</td>\n",
       "      <td>NaN</td>\n",
       "      <td>7838854012</td>\n",
       "      <td>Lohia Nagar  301/5</td>\n",
       "      <td>201001</td>\n",
       "      <td>Ghaziabad</td>\n",
       "      <td>NaN</td>\n",
       "      <td>Consulting services</td>\n",
       "      <td>NaN</td>\n",
       "      <td>India</td>\n",
       "      <td>NaN</td>\n",
       "      <td>NaN</td>\n",
       "      <td>NaN</td>\n",
       "    </tr>\n",
       "    <tr>\n",
       "      <th>1</th>\n",
       "      <td>2</td>\n",
       "      <td>Creative Marketing</td>\n",
       "      <td>Gobind</td>\n",
       "      <td>NaN</td>\n",
       "      <td>NaN</td>\n",
       "      <td>9833945483</td>\n",
       "      <td>Chembur West Abdul Rehman Street 28</td>\n",
       "      <td>400071</td>\n",
       "      <td>Mumbai</td>\n",
       "      <td>NaN</td>\n",
       "      <td>Consulting services</td>\n",
       "      <td>NaN</td>\n",
       "      <td>India</td>\n",
       "      <td>NaN</td>\n",
       "      <td>NaN</td>\n",
       "      <td>NaN</td>\n",
       "    </tr>\n",
       "    <tr>\n",
       "      <th>2</th>\n",
       "      <td>3</td>\n",
       "      <td>Magus Limited</td>\n",
       "      <td>Imran</td>\n",
       "      <td>NaN</td>\n",
       "      <td>NaN</td>\n",
       "      <td>9930744868</td>\n",
       "      <td>AAI Colony  36</td>\n",
       "      <td>400099</td>\n",
       "      <td>Mumbai</td>\n",
       "      <td>www.magussecure.com</td>\n",
       "      <td>Consulting services</td>\n",
       "      <td>NaN</td>\n",
       "      <td>India</td>\n",
       "      <td>NaN</td>\n",
       "      <td>NaN</td>\n",
       "      <td>NaN</td>\n",
       "    </tr>\n",
       "    <tr>\n",
       "      <th>3</th>\n",
       "      <td>4</td>\n",
       "      <td>Sachdeva Communication</td>\n",
       "      <td>NaN</td>\n",
       "      <td>NaN</td>\n",
       "      <td>NaN</td>\n",
       "      <td>9810102655</td>\n",
       "      <td>Sarojini Nagar Ina Market 2</td>\n",
       "      <td>110023</td>\n",
       "      <td>Delhi</td>\n",
       "      <td>NaN</td>\n",
       "      <td>Consulting services</td>\n",
       "      <td>NaN</td>\n",
       "      <td>India</td>\n",
       "      <td>NaN</td>\n",
       "      <td>NaN</td>\n",
       "      <td>NaN</td>\n",
       "    </tr>\n",
       "    <tr>\n",
       "      <th>4</th>\n",
       "      <td>5</td>\n",
       "      <td>Services 24u</td>\n",
       "      <td>Mr ravinder singh</td>\n",
       "      <td>NaN</td>\n",
       "      <td>NaN</td>\n",
       "      <td>9953649795</td>\n",
       "      <td>South Extension Kanpur ambader nager 16/351</td>\n",
       "      <td>110049</td>\n",
       "      <td>Delhi</td>\n",
       "      <td>NaN</td>\n",
       "      <td>Consulting services</td>\n",
       "      <td>NaN</td>\n",
       "      <td>India</td>\n",
       "      <td>NaN</td>\n",
       "      <td>NaN</td>\n",
       "      <td>NaN</td>\n",
       "    </tr>\n",
       "  </tbody>\n",
       "</table>\n",
       "</div>"
      ],
      "text/plain": [
       "   S No            Company Name               Name Email ID Designation  \\\n",
       "0     1          Om Sai Telecom       Sunder Singh      NaN         NaN   \n",
       "1     2      Creative Marketing             Gobind      NaN         NaN   \n",
       "2     3           Magus Limited              Imran      NaN         NaN   \n",
       "3     4  Sachdeva Communication                NaN      NaN         NaN   \n",
       "4     5            Services 24u  Mr ravinder singh      NaN         NaN   \n",
       "\n",
       "    Mobile No                                      Address Pincode       City  \\\n",
       "0  7838854012                           Lohia Nagar  301/5  201001  Ghaziabad   \n",
       "1  9833945483          Chembur West Abdul Rehman Street 28  400071     Mumbai   \n",
       "2  9930744868                               AAI Colony  36  400099     Mumbai   \n",
       "3  9810102655                  Sarojini Nagar Ina Market 2  110023      Delhi   \n",
       "4  9953649795  South Extension Kanpur ambader nager 16/351  110049      Delhi   \n",
       "\n",
       "               Website         Company Type State Country Phone  \\\n",
       "0                  NaN  Consulting services   NaN   India   NaN   \n",
       "1                  NaN  Consulting services   NaN   India   NaN   \n",
       "2  www.magussecure.com  Consulting services   NaN   India   NaN   \n",
       "3                  NaN  Consulting services   NaN   India   NaN   \n",
       "4                  NaN  Consulting services   NaN   India   NaN   \n",
       "\n",
       "  Company details Unnamed: 15  \n",
       "0             NaN         NaN  \n",
       "1             NaN         NaN  \n",
       "2             NaN         NaN  \n",
       "3             NaN         NaN  \n",
       "4             NaN         NaN  "
      ]
     },
     "execution_count": 3,
     "metadata": {},
     "output_type": "execute_result"
    }
   ],
   "source": [
    "df = pd.read_csv(r\"industry_clean_complete.csv\")\n",
    "df.head()"
   ]
  },
  {
   "cell_type": "code",
   "execution_count": 4,
   "id": "4b288bc2",
   "metadata": {},
   "outputs": [
    {
     "data": {
      "text/html": [
       "<div>\n",
       "<style scoped>\n",
       "    .dataframe tbody tr th:only-of-type {\n",
       "        vertical-align: middle;\n",
       "    }\n",
       "\n",
       "    .dataframe tbody tr th {\n",
       "        vertical-align: top;\n",
       "    }\n",
       "\n",
       "    .dataframe thead th {\n",
       "        text-align: right;\n",
       "    }\n",
       "</style>\n",
       "<table border=\"1\" class=\"dataframe\">\n",
       "  <thead>\n",
       "    <tr style=\"text-align: right;\">\n",
       "      <th></th>\n",
       "      <th>S No</th>\n",
       "      <th>Company Name</th>\n",
       "      <th>Name</th>\n",
       "      <th>Email ID</th>\n",
       "      <th>Designation</th>\n",
       "      <th>Mobile No</th>\n",
       "      <th>Address</th>\n",
       "      <th>Pincode</th>\n",
       "      <th>City</th>\n",
       "      <th>Website</th>\n",
       "      <th>Company Type</th>\n",
       "      <th>State</th>\n",
       "      <th>Country</th>\n",
       "      <th>Phone</th>\n",
       "      <th>Company details</th>\n",
       "      <th>Unnamed: 15</th>\n",
       "    </tr>\n",
       "  </thead>\n",
       "  <tbody>\n",
       "    <tr>\n",
       "      <th>1037687</th>\n",
       "      <td>1037688</td>\n",
       "      <td>Mohit Suresh Aggarwal and Associates</td>\n",
       "      <td>Mohit Aggarwal</td>\n",
       "      <td>mohitaggarwalca@yahoo.co.in</td>\n",
       "      <td>NaN</td>\n",
       "      <td>9815336699</td>\n",
       "      <td>NaN</td>\n",
       "      <td>NaN</td>\n",
       "      <td>NaN</td>\n",
       "      <td>NaN</td>\n",
       "      <td>others</td>\n",
       "      <td>NaN</td>\n",
       "      <td>NaN</td>\n",
       "      <td>0172 \\n4613466</td>\n",
       "      <td>others</td>\n",
       "      <td>NaN</td>\n",
       "    </tr>\n",
       "    <tr>\n",
       "      <th>1037688</th>\n",
       "      <td>1037689</td>\n",
       "      <td>PTU's Gyan Jyoti School of TQM and Entrepreneu...</td>\n",
       "      <td>Naresh Chawla</td>\n",
       "      <td>consultant@tqmschool.org</td>\n",
       "      <td>NaN</td>\n",
       "      <td>0172 \\n6541187</td>\n",
       "      <td>NaN</td>\n",
       "      <td>NaN</td>\n",
       "      <td>NaN</td>\n",
       "      <td>NaN</td>\n",
       "      <td>others</td>\n",
       "      <td>NaN</td>\n",
       "      <td>NaN</td>\n",
       "      <td>NaN</td>\n",
       "      <td>others</td>\n",
       "      <td>NaN</td>\n",
       "    </tr>\n",
       "    <tr>\n",
       "      <th>1037689</th>\n",
       "      <td>1037690</td>\n",
       "      <td>ESS PEE Quality Products</td>\n",
       "      <td>Surinder Pal SIngh</td>\n",
       "      <td>spsingh@beeshoney.in</td>\n",
       "      <td>NaN</td>\n",
       "      <td>9041495989</td>\n",
       "      <td>NaN</td>\n",
       "      <td>NaN</td>\n",
       "      <td>NaN</td>\n",
       "      <td>NaN</td>\n",
       "      <td>others</td>\n",
       "      <td>NaN</td>\n",
       "      <td>NaN</td>\n",
       "      <td>0172 \\n2233221</td>\n",
       "      <td>others</td>\n",
       "      <td>NaN</td>\n",
       "    </tr>\n",
       "    <tr>\n",
       "      <th>1037690</th>\n",
       "      <td>1037691</td>\n",
       "      <td>Vikas Industries</td>\n",
       "      <td>Vikas Mittaql</td>\n",
       "      <td>NaN</td>\n",
       "      <td>NaN</td>\n",
       "      <td>9815239700</td>\n",
       "      <td>NaN</td>\n",
       "      <td>NaN</td>\n",
       "      <td>NaN</td>\n",
       "      <td>NaN</td>\n",
       "      <td>others</td>\n",
       "      <td>NaN</td>\n",
       "      <td>NaN</td>\n",
       "      <td>0172 \\n4604700</td>\n",
       "      <td>others</td>\n",
       "      <td>NaN</td>\n",
       "    </tr>\n",
       "    <tr>\n",
       "      <th>1037691</th>\n",
       "      <td>1037692</td>\n",
       "      <td>GST Axperts</td>\n",
       "      <td>H.S.Sharma</td>\n",
       "      <td>gstaxperts@gmail.com</td>\n",
       "      <td>NaN</td>\n",
       "      <td>9872009018</td>\n",
       "      <td>NaN</td>\n",
       "      <td>NaN</td>\n",
       "      <td>NaN</td>\n",
       "      <td>NaN</td>\n",
       "      <td>others</td>\n",
       "      <td>NaN</td>\n",
       "      <td>NaN</td>\n",
       "      <td>0172 \\n2557666</td>\n",
       "      <td>others</td>\n",
       "      <td>NaN</td>\n",
       "    </tr>\n",
       "  </tbody>\n",
       "</table>\n",
       "</div>"
      ],
      "text/plain": [
       "            S No                                       Company Name  \\\n",
       "1037687  1037688               Mohit Suresh Aggarwal and Associates   \n",
       "1037688  1037689  PTU's Gyan Jyoti School of TQM and Entrepreneu...   \n",
       "1037689  1037690                           ESS PEE Quality Products   \n",
       "1037690  1037691                                   Vikas Industries   \n",
       "1037691  1037692                                        GST Axperts   \n",
       "\n",
       "                       Name                     Email ID Designation  \\\n",
       "1037687      Mohit Aggarwal  mohitaggarwalca@yahoo.co.in         NaN   \n",
       "1037688       Naresh Chawla     consultant@tqmschool.org         NaN   \n",
       "1037689  Surinder Pal SIngh         spsingh@beeshoney.in         NaN   \n",
       "1037690       Vikas Mittaql                          NaN         NaN   \n",
       "1037691          H.S.Sharma         gstaxperts@gmail.com         NaN   \n",
       "\n",
       "              Mobile No Address Pincode City Website Company Type State  \\\n",
       "1037687      9815336699     NaN     NaN  NaN     NaN       others   NaN   \n",
       "1037688  0172 \\n6541187     NaN     NaN  NaN     NaN       others   NaN   \n",
       "1037689      9041495989     NaN     NaN  NaN     NaN       others   NaN   \n",
       "1037690      9815239700     NaN     NaN  NaN     NaN       others   NaN   \n",
       "1037691      9872009018     NaN     NaN  NaN     NaN       others   NaN   \n",
       "\n",
       "        Country           Phone Company details Unnamed: 15  \n",
       "1037687     NaN  0172 \\n4613466          others         NaN  \n",
       "1037688     NaN             NaN          others         NaN  \n",
       "1037689     NaN  0172 \\n2233221          others         NaN  \n",
       "1037690     NaN  0172 \\n4604700          others         NaN  \n",
       "1037691     NaN  0172 \\n2557666          others         NaN  "
      ]
     },
     "execution_count": 4,
     "metadata": {},
     "output_type": "execute_result"
    }
   ],
   "source": [
    "df.tail()"
   ]
  },
  {
   "cell_type": "code",
   "execution_count": 5,
   "id": "8e39ac5a",
   "metadata": {},
   "outputs": [
    {
     "data": {
      "text/plain": [
       "(1037692, 16)"
      ]
     },
     "execution_count": 5,
     "metadata": {},
     "output_type": "execute_result"
    }
   ],
   "source": [
    "df.shape"
   ]
  },
  {
   "cell_type": "code",
   "execution_count": 6,
   "id": "8c4b198e",
   "metadata": {
    "scrolled": false
   },
   "outputs": [
    {
     "name": "stdout",
     "output_type": "stream",
     "text": [
      "<class 'pandas.core.frame.DataFrame'>\n",
      "RangeIndex: 1037692 entries, 0 to 1037691\n",
      "Data columns (total 16 columns):\n",
      " #   Column           Non-Null Count    Dtype \n",
      "---  ------           --------------    ----- \n",
      " 0   S No             1037692 non-null  int64 \n",
      " 1   Company Name     897726 non-null   object\n",
      " 2   Name             986454 non-null   object\n",
      " 3   Email ID         1025940 non-null  object\n",
      " 4   Designation      461167 non-null   object\n",
      " 5   Mobile No        614322 non-null   object\n",
      " 6   Address          448705 non-null   object\n",
      " 7   Pincode          28071 non-null    object\n",
      " 8   City             528187 non-null   object\n",
      " 9   Website          18970 non-null    object\n",
      " 10  Company Type     1037609 non-null  object\n",
      " 11  State            965997 non-null   object\n",
      " 12  Country          1036940 non-null  object\n",
      " 13  Phone            416 non-null      object\n",
      " 14  Company details  819770 non-null   object\n",
      " 15  Unnamed: 15      4 non-null        object\n",
      "dtypes: int64(1), object(15)\n",
      "memory usage: 126.7+ MB\n"
     ]
    }
   ],
   "source": [
    "df.info()"
   ]
  },
  {
   "cell_type": "code",
   "execution_count": 7,
   "id": "4a61d0a8",
   "metadata": {},
   "outputs": [
    {
     "data": {
      "text/plain": [
       "0"
      ]
     },
     "execution_count": 7,
     "metadata": {},
     "output_type": "execute_result"
    }
   ],
   "source": [
    "df.duplicated().sum()"
   ]
  },
  {
   "cell_type": "code",
   "execution_count": 8,
   "id": "44fc039d",
   "metadata": {},
   "outputs": [
    {
     "data": {
      "text/html": [
       "<div>\n",
       "<style scoped>\n",
       "    .dataframe tbody tr th:only-of-type {\n",
       "        vertical-align: middle;\n",
       "    }\n",
       "\n",
       "    .dataframe tbody tr th {\n",
       "        vertical-align: top;\n",
       "    }\n",
       "\n",
       "    .dataframe thead th {\n",
       "        text-align: right;\n",
       "    }\n",
       "</style>\n",
       "<table border=\"1\" class=\"dataframe\">\n",
       "  <thead>\n",
       "    <tr style=\"text-align: right;\">\n",
       "      <th></th>\n",
       "      <th>Company Name</th>\n",
       "      <th>Name</th>\n",
       "      <th>Email ID</th>\n",
       "      <th>Designation</th>\n",
       "      <th>Mobile No</th>\n",
       "      <th>Address</th>\n",
       "      <th>Pincode</th>\n",
       "      <th>City</th>\n",
       "      <th>Website</th>\n",
       "      <th>Company Type</th>\n",
       "      <th>State</th>\n",
       "      <th>Country</th>\n",
       "      <th>Phone</th>\n",
       "      <th>Company details</th>\n",
       "    </tr>\n",
       "  </thead>\n",
       "  <tbody>\n",
       "    <tr>\n",
       "      <th>0</th>\n",
       "      <td>Om Sai Telecom</td>\n",
       "      <td>Sunder Singh</td>\n",
       "      <td>NaN</td>\n",
       "      <td>NaN</td>\n",
       "      <td>7838854012</td>\n",
       "      <td>Lohia Nagar  301/5</td>\n",
       "      <td>201001</td>\n",
       "      <td>Ghaziabad</td>\n",
       "      <td>NaN</td>\n",
       "      <td>Consulting services</td>\n",
       "      <td>NaN</td>\n",
       "      <td>India</td>\n",
       "      <td>NaN</td>\n",
       "      <td>NaN</td>\n",
       "    </tr>\n",
       "    <tr>\n",
       "      <th>1</th>\n",
       "      <td>Creative Marketing</td>\n",
       "      <td>Gobind</td>\n",
       "      <td>NaN</td>\n",
       "      <td>NaN</td>\n",
       "      <td>9833945483</td>\n",
       "      <td>Chembur West Abdul Rehman Street 28</td>\n",
       "      <td>400071</td>\n",
       "      <td>Mumbai</td>\n",
       "      <td>NaN</td>\n",
       "      <td>Consulting services</td>\n",
       "      <td>NaN</td>\n",
       "      <td>India</td>\n",
       "      <td>NaN</td>\n",
       "      <td>NaN</td>\n",
       "    </tr>\n",
       "    <tr>\n",
       "      <th>2</th>\n",
       "      <td>Magus Limited</td>\n",
       "      <td>Imran</td>\n",
       "      <td>NaN</td>\n",
       "      <td>NaN</td>\n",
       "      <td>9930744868</td>\n",
       "      <td>AAI Colony  36</td>\n",
       "      <td>400099</td>\n",
       "      <td>Mumbai</td>\n",
       "      <td>www.magussecure.com</td>\n",
       "      <td>Consulting services</td>\n",
       "      <td>NaN</td>\n",
       "      <td>India</td>\n",
       "      <td>NaN</td>\n",
       "      <td>NaN</td>\n",
       "    </tr>\n",
       "    <tr>\n",
       "      <th>3</th>\n",
       "      <td>Sachdeva Communication</td>\n",
       "      <td>NaN</td>\n",
       "      <td>NaN</td>\n",
       "      <td>NaN</td>\n",
       "      <td>9810102655</td>\n",
       "      <td>Sarojini Nagar Ina Market 2</td>\n",
       "      <td>110023</td>\n",
       "      <td>Delhi</td>\n",
       "      <td>NaN</td>\n",
       "      <td>Consulting services</td>\n",
       "      <td>NaN</td>\n",
       "      <td>India</td>\n",
       "      <td>NaN</td>\n",
       "      <td>NaN</td>\n",
       "    </tr>\n",
       "    <tr>\n",
       "      <th>4</th>\n",
       "      <td>Services 24u</td>\n",
       "      <td>Mr ravinder singh</td>\n",
       "      <td>NaN</td>\n",
       "      <td>NaN</td>\n",
       "      <td>9953649795</td>\n",
       "      <td>South Extension Kanpur ambader nager 16/351</td>\n",
       "      <td>110049</td>\n",
       "      <td>Delhi</td>\n",
       "      <td>NaN</td>\n",
       "      <td>Consulting services</td>\n",
       "      <td>NaN</td>\n",
       "      <td>India</td>\n",
       "      <td>NaN</td>\n",
       "      <td>NaN</td>\n",
       "    </tr>\n",
       "  </tbody>\n",
       "</table>\n",
       "</div>"
      ],
      "text/plain": [
       "             Company Name               Name Email ID Designation   Mobile No  \\\n",
       "0          Om Sai Telecom       Sunder Singh      NaN         NaN  7838854012   \n",
       "1      Creative Marketing             Gobind      NaN         NaN  9833945483   \n",
       "2           Magus Limited              Imran      NaN         NaN  9930744868   \n",
       "3  Sachdeva Communication                NaN      NaN         NaN  9810102655   \n",
       "4            Services 24u  Mr ravinder singh      NaN         NaN  9953649795   \n",
       "\n",
       "                                       Address Pincode       City  \\\n",
       "0                           Lohia Nagar  301/5  201001  Ghaziabad   \n",
       "1          Chembur West Abdul Rehman Street 28  400071     Mumbai   \n",
       "2                               AAI Colony  36  400099     Mumbai   \n",
       "3                  Sarojini Nagar Ina Market 2  110023      Delhi   \n",
       "4  South Extension Kanpur ambader nager 16/351  110049      Delhi   \n",
       "\n",
       "               Website         Company Type State Country Phone  \\\n",
       "0                  NaN  Consulting services   NaN   India   NaN   \n",
       "1                  NaN  Consulting services   NaN   India   NaN   \n",
       "2  www.magussecure.com  Consulting services   NaN   India   NaN   \n",
       "3                  NaN  Consulting services   NaN   India   NaN   \n",
       "4                  NaN  Consulting services   NaN   India   NaN   \n",
       "\n",
       "  Company details  \n",
       "0             NaN  \n",
       "1             NaN  \n",
       "2             NaN  \n",
       "3             NaN  \n",
       "4             NaN  "
      ]
     },
     "execution_count": 8,
     "metadata": {},
     "output_type": "execute_result"
    }
   ],
   "source": [
    "df.drop(['Unnamed: 15','S No'], axis=1, inplace=True)\n",
    "df.head()"
   ]
  },
  {
   "cell_type": "code",
   "execution_count": 9,
   "id": "75c321fb",
   "metadata": {},
   "outputs": [
    {
     "name": "stdout",
     "output_type": "stream",
     "text": [
      "<class 'pandas.core.frame.DataFrame'>\n",
      "RangeIndex: 1037692 entries, 0 to 1037691\n",
      "Data columns (total 14 columns):\n",
      " #   Column           Non-Null Count    Dtype \n",
      "---  ------           --------------    ----- \n",
      " 0   Company Name     897726 non-null   object\n",
      " 1   Name             986454 non-null   object\n",
      " 2   Email ID         1025940 non-null  object\n",
      " 3   Designation      461167 non-null   object\n",
      " 4   Mobile No        614322 non-null   object\n",
      " 5   Address          448705 non-null   object\n",
      " 6   Pincode          28071 non-null    object\n",
      " 7   City             528187 non-null   object\n",
      " 8   Website          18970 non-null    object\n",
      " 9   Company Type     1037609 non-null  object\n",
      " 10  State            965997 non-null   object\n",
      " 11  Country          1036940 non-null  object\n",
      " 12  Phone            416 non-null      object\n",
      " 13  Company details  819770 non-null   object\n",
      "dtypes: object(14)\n",
      "memory usage: 110.8+ MB\n"
     ]
    }
   ],
   "source": [
    "df.info()"
   ]
  },
  {
   "cell_type": "code",
   "execution_count": 10,
   "id": "54ebf873",
   "metadata": {},
   "outputs": [],
   "source": [
    "# trim white spaces\n",
    "\n",
    "df = df.apply(lambda x: x.str.strip() if x.dtype == 'object' else x)"
   ]
  },
  {
   "cell_type": "code",
   "execution_count": null,
   "id": "a3a1cbb1",
   "metadata": {},
   "outputs": [],
   "source": []
  },
  {
   "cell_type": "code",
   "execution_count": 11,
   "id": "b4b21ef7",
   "metadata": {},
   "outputs": [],
   "source": [
    "# removing numeric values \n",
    "\n",
    "df['Company Name'] = df['Company Name'].replace(to_replace=r'\\d+',value='',regex=True)"
   ]
  },
  {
   "cell_type": "code",
   "execution_count": 12,
   "id": "ba61d35f",
   "metadata": {},
   "outputs": [
    {
     "data": {
      "text/plain": [
       "Company Name        139966\n",
       "Name                 51238\n",
       "Email ID             11752\n",
       "Designation         576525\n",
       "Mobile No           446282\n",
       "Address             588987\n",
       "Pincode            1021417\n",
       "City                509505\n",
       "Website            1018722\n",
       "Company Type            83\n",
       "State                71695\n",
       "Country                752\n",
       "Phone              1037276\n",
       "Company details     217922\n",
       "dtype: int64"
      ]
     },
     "execution_count": 12,
     "metadata": {},
     "output_type": "execute_result"
    }
   ],
   "source": [
    "df.isnull().sum()"
   ]
  },
  {
   "cell_type": "code",
   "execution_count": 13,
   "id": "97950e8c",
   "metadata": {},
   "outputs": [],
   "source": [
    "# df[\"Company Name\"].replace({'&':'and'})"
   ]
  },
  {
   "cell_type": "code",
   "execution_count": 14,
   "id": "c9827066",
   "metadata": {},
   "outputs": [
    {
     "name": "stdout",
     "output_type": "stream",
     "text": [
      "<class 'pandas.core.frame.DataFrame'>\n",
      "RangeIndex: 1037692 entries, 0 to 1037691\n",
      "Data columns (total 14 columns):\n",
      " #   Column           Non-Null Count    Dtype \n",
      "---  ------           --------------    ----- \n",
      " 0   Company Name     897726 non-null   object\n",
      " 1   Name             986454 non-null   object\n",
      " 2   Email ID         1025940 non-null  object\n",
      " 3   Designation      461167 non-null   object\n",
      " 4   Mobile No        591410 non-null   object\n",
      " 5   Address          448705 non-null   object\n",
      " 6   Pincode          16275 non-null    object\n",
      " 7   City             528187 non-null   object\n",
      " 8   Website          18970 non-null    object\n",
      " 9   Company Type     1037609 non-null  object\n",
      " 10  State            965997 non-null   object\n",
      " 11  Country          1036940 non-null  object\n",
      " 12  Phone            416 non-null      object\n",
      " 13  Company details  819770 non-null   object\n",
      "dtypes: object(14)\n",
      "memory usage: 110.8+ MB\n"
     ]
    }
   ],
   "source": [
    "df.info()"
   ]
  },
  {
   "cell_type": "code",
   "execution_count": 15,
   "id": "c7269cfd",
   "metadata": {},
   "outputs": [],
   "source": [
    "# removing all the special characters except &\n",
    "\n",
    "df[\"Company Name\"] = df[\"Company Name\"].str.replace('[^a-zA-Z0-9&\\s]',' ', regex=True)"
   ]
  },
  {
   "cell_type": "code",
   "execution_count": 16,
   "id": "b4137ac4",
   "metadata": {},
   "outputs": [],
   "source": [
    "df['Email ID'] = df['Email ID'].str.replace(r'^[. ]', '')"
   ]
  },
  {
   "cell_type": "code",
   "execution_count": 17,
   "id": "7467b346",
   "metadata": {},
   "outputs": [],
   "source": [
    "df['Company Name'] = df['Company Name'].str.replace(r'^[&]', '')"
   ]
  },
  {
   "cell_type": "code",
   "execution_count": 18,
   "id": "4e660497",
   "metadata": {},
   "outputs": [],
   "source": [
    "df = df.dropna(subset=[\"Email ID\",\"Company Name\"])"
   ]
  },
  {
   "cell_type": "code",
   "execution_count": 19,
   "id": "8cc137f3",
   "metadata": {},
   "outputs": [
    {
     "name": "stdout",
     "output_type": "stream",
     "text": [
      "<class 'pandas.core.frame.DataFrame'>\n",
      "Int64Index: 886283 entries, 11 to 1037691\n",
      "Data columns (total 14 columns):\n",
      " #   Column           Non-Null Count   Dtype \n",
      "---  ------           --------------   ----- \n",
      " 0   Company Name     886283 non-null  object\n",
      " 1   Name             838247 non-null  object\n",
      " 2   Email ID         886283 non-null  object\n",
      " 3   Designation      461082 non-null  object\n",
      " 4   Mobile No        449902 non-null  object\n",
      " 5   Address          334844 non-null  object\n",
      " 6   Pincode          16052 non-null   object\n",
      " 7   City             377199 non-null  object\n",
      " 8   Website          17945 non-null   object\n",
      " 9   Company Type     886253 non-null  object\n",
      " 10  State            827213 non-null  object\n",
      " 11  Country          885759 non-null  object\n",
      " 12  Phone            379 non-null     object\n",
      " 13  Company details  713086 non-null  object\n",
      "dtypes: object(14)\n",
      "memory usage: 101.4+ MB\n"
     ]
    }
   ],
   "source": [
    "df.info()"
   ]
  },
  {
   "cell_type": "code",
   "execution_count": 20,
   "id": "8c056a22",
   "metadata": {},
   "outputs": [
    {
     "data": {
      "text/plain": [
       "(886283, 14)"
      ]
     },
     "execution_count": 20,
     "metadata": {},
     "output_type": "execute_result"
    }
   ],
   "source": [
    "df.shape"
   ]
  },
  {
   "cell_type": "code",
   "execution_count": 21,
   "id": "30686631",
   "metadata": {},
   "outputs": [
    {
     "data": {
      "text/plain": [
       "15466"
      ]
     },
     "execution_count": 21,
     "metadata": {},
     "output_type": "execute_result"
    }
   ],
   "source": [
    "df.duplicated().sum()"
   ]
  },
  {
   "cell_type": "code",
   "execution_count": 22,
   "id": "44707753",
   "metadata": {},
   "outputs": [],
   "source": [
    "df = df.drop_duplicates()"
   ]
  },
  {
   "cell_type": "code",
   "execution_count": 23,
   "id": "b7e39982",
   "metadata": {},
   "outputs": [
    {
     "data": {
      "text/plain": [
       "(870817, 14)"
      ]
     },
     "execution_count": 23,
     "metadata": {},
     "output_type": "execute_result"
    }
   ],
   "source": [
    "df.shape"
   ]
  },
  {
   "cell_type": "code",
   "execution_count": 24,
   "id": "397191b5",
   "metadata": {},
   "outputs": [],
   "source": [
    "df['Company Name'] = df['Company Name'].str.title()\n",
    "df['Name'] = df['Name'].str.title()"
   ]
  },
  {
   "cell_type": "raw",
   "id": "6cdf4469",
   "metadata": {},
   "source": [
    "not any|Self employed(Retired)|"
   ]
  },
  {
   "cell_type": "code",
   "execution_count": 25,
   "id": "c2b5408a",
   "metadata": {},
   "outputs": [],
   "source": [
    "# deleting rows \n",
    "\n",
    "df = df[~((df['Company Name'].str.lower().str.contains('yes|xxx|none|pursuing|accountant|leaqg',case=False))|\n",
    "        (df['Company Name'].str.lower().str.contains('Advocate|no|right now|not|jobless|freshar',case=False))|\n",
    "        (df['Company Name'].str.lower().str.contains('self|yyy|HS|TS|NA|presently|perfect|accountent|WORG',case=False))|\n",
    "        (df['Company Name'].str.lower().str.contains('student|zxy|recently|best|one of the|unemployee',case=False))|\n",
    "        (df['Company Name'].str.lower().str.contains('part time|parttime|searching|left |have a|WWW',case=False))|\n",
    "        (df['Company Name'].str.lower().str.contains('jounior|senoir|assist|as a|as an|education|as ',case=False))|\n",
    "        (df['Company Name'].str.lower().str.contains('nowhere|Myself|own|Fresheer|executive|operator ',case=False))|\n",
    "        (df['Company Name'].str.lower().str.contains('Current|looking|Graduate|Undisclosed',case=False)))]"
   ]
  },
  {
   "cell_type": "code",
   "execution_count": 26,
   "id": "35068c0d",
   "metadata": {},
   "outputs": [],
   "source": [
    "df = df[~((df['Company Name'].str.lower().str.contains('employer|Worked|Freshner|freshir|LANCING',case=False))|\n",
    "        (df['Company Type'].str.lower().str.contains('Accoung|consulg|bilg|freshre|freshier|candidate',case=False))|\n",
    "        (df['Company Name'].str.lower().str.contains('m software|frelancing|mention|unemployeed',case=False))|\n",
    "        (df['Company Type'].str.lower().str.contains('Working|civil eneer|N.A|un employee|no ',case=False))|\n",
    "        (df['Company Type'].str.lower().str.contains('Freshes|good|MBA|Employed|front office',case=False))|\n",
    "        (df['Company Type'].str.lower().str.contains('freshear|Accountant|inter face|self',case=False)))]"
   ]
  },
  {
   "cell_type": "code",
   "execution_count": 27,
   "id": "7e41d2a3",
   "metadata": {},
   "outputs": [],
   "source": [
    "df = df[~((df['Company Type'].str.lower().str.contains('customer|Human Resource|Backoffice|C A FIRM|practise',case=False))|\n",
    "        (df['Company Type'].str.lower().str.contains('consuig|Content Keeper|Cofidential|Consulg|schhol|cyber cafe',case=False))|\n",
    "        (df['Company Name'].str.lower().str.contains('COnfidential|Confedential|teacher|CA firm|N.A.',case=False))|\n",
    "        (df['Company Name'].str.lower().str.contains('(P) Ltd.|fresher|cofi|n a|A LAW|no.|others',case=False)))]"
   ]
  },
  {
   "cell_type": "code",
   "execution_count": 28,
   "id": "f8bc2208",
   "metadata": {},
   "outputs": [],
   "source": [
    "df = df[~((df['Company Type'].str.lower().str.contains('leag|firstcall|councellor|Caller',case=False))|\n",
    "          (df['Company Type'].str.lower().str.contains('Confidencial|disclosed|seeking|freasher',case=False))|\n",
    "          (df['Company Type'].str.lower().str.contains('fesher|later|work from home|Private Employee',case=False))|\n",
    "         (df['Company Type'].str.lower().str.contains('firstcall|back office|worg|confidental|fesher',case=False)))]"
   ]
  },
  {
   "cell_type": "code",
   "execution_count": 29,
   "id": "54cb717f",
   "metadata": {},
   "outputs": [],
   "source": [
    "df = df[~df['Company Name'].str.lower().str.startswith('backend')]\n",
    "# df = df[~df['Company Name'].str.lower().str.startswith('Caller')]\n",
    "df = df[~df['Company Name'].str.lower().str.startswith('A Leag')]\n",
    "df = df[~df['Company Name'].str.lower().str.startswith('back end')]\n",
    "df = df[~df['Company Name'].str.lower().str.startswith('Sales Executive')]\n",
    "df = df[~df['Company Name'].str.lower().str.startswith('call centre')]\n",
    "df = df[~df['Company Name'].str.lower().str.startswith('callcentre')]\n",
    "df = df[~df['Company Name'].str.lower().str.startswith('call')]\n",
    "df = df[~df['Company Name'].str.lower().str.startswith('SALESMAN')]\n",
    "df = df[~df['Company Name'].str.lower().str.startswith('CallCentres')]\n",
    "df = df[~df['Company Name'].str.lower().str.startswith('backward |sale')]\n",
    "df = df[~df['Company Name'].str.lower().str.startswith('call ')]\n",
    "df = df[~df['Company Name'].str.lower().str.startswith('abb')]\n",
    "df = df[~df['Company Name'].str.lower().str.startswith('audit firm')]\n",
    "df = df[~df['Company Name'].str.lower().str.startswith('XYZ ')] \n",
    "df = df[~df['Company Name'].str.lower().str.startswith('nil ')]\n",
    "df = df[~df['Company Name'].str.lower().str.startswith('confi')]\n",
    "df = df[~df['Company Name'].str.lower().str.startswith('free')]\n",
    "df = df[~df['Company Name'].str.lower().str.startswith('Tele')]\n",
    "df = df[~df['Company Name'].str.lower().str.startswith('junior')]"
   ]
  },
  {
   "cell_type": "code",
   "execution_count": 30,
   "id": "2470698f",
   "metadata": {},
   "outputs": [],
   "source": [
    "df = df[~df['Company Name'].str.lower().str.startswith('charted')]\n",
    "df = df[~df['Company Name'].str.lower().str.startswith('college')]\n",
    "df = df[~df['Company Name'].str.lower().str.startswith('jr.|advisor')]\n",
    "df = df[~df['Company Name'].str.lower().str.startswith('charter')]\n",
    "df = df[~df['Company Name'].str.lower().str.startswith('admin')]\n",
    "df = df[~df['Company Name'].str.lower().str.startswith('blank')]\n",
    "df = df[~df['Company Name'].str.lower().str.startswith('back ')]\n",
    "df = df[~df['Company Name'].str.lower().str.startswith('Consultant ')]\n",
    "df = df[~df['Company Name'].str.lower().str.startswith('consulate ')]\n",
    "df = df[~df['Company Name'].str.lower().str.startswith('contsultancy')]\n",
    "df = df[~df['Company Name'].str.lower().str.startswith('ccou ')]\n",
    "df = df[~df['Company Name'].str.lower().str.startswith('assi ')]\n",
    "df = df[~df['Company Name'].str.lower().str.startswith('asis')]\n",
    "df = df[~df['Company Name'].str.lower().str.startswith('consultent')]\n",
    "df = df[~df['Company Name'].str.lower().str.startswith('ce ')]\n",
    "df = df[~df['Company Name'].str.lower().str.startswith('resource')]\n",
    "df = df[~df['Company Name'].str.lower().str.startswith('abb')]\n",
    "df = df[~df['Company Name'].str.lower().str.startswith('ab ')]\n",
    "df = df[~df['Company Name'].str.lower().str.startswith('aa ')]\n",
    "df = df[~df['Company Name'].str.lower().str.startswith('abm')]\n",
    "df = df[~df['Company Name'].str.lower().str.startswith('Consultancy')]\n",
    "df = df[~df['Company Name'].str.lower().str.startswith('computer operator')]"
   ]
  },
  {
   "cell_type": "code",
   "execution_count": 43,
   "id": "70c662d5",
   "metadata": {},
   "outputs": [],
   "source": [
    "# drop rows where the column has single character\n",
    "\n",
    "df = df.drop(df[df['Company Name'].str.len() == 1].index)"
   ]
  },
  {
   "cell_type": "code",
   "execution_count": 32,
   "id": "bca91642",
   "metadata": {},
   "outputs": [],
   "source": [
    "df = df.drop(df[df['Company Name'] == \"work\"].index)\n",
    "df = df.drop(df[df['Company Name'] == \"BackOffice\"].index)\n",
    "df = df.drop(df[df['Company Name'] == \"Feedback\"].index)\n",
    "df = df.drop(df[df['Company Name'] == \"employee\"].index) "
   ]
  },
  {
   "cell_type": "code",
   "execution_count": 33,
   "id": "7d90cd5d",
   "metadata": {},
   "outputs": [],
   "source": [
    "df[\"Company Name\"] = df[\"Company Name\"].str.replace(\"abc|ABCD|abc co.|Abc|hotel|NA|no|yaa|www.|.in|.com|Aa|Flat\", \"\",case=False)\n",
    "df[\"Company Name\"] = df[\"Company Name\"].str.replace(\"|%|Customer|CONFIDENTIAL|care|CS|RR|Big|Abc|abcxyz\", \"\",case=False)\n",
    "df[\"Company Name\"] = df[\"Company Name\"].str.replace(\"self pitp &stp practicing|ACCOUNTANT|N A|ssistnt\", \"\",case=False)\n",
    "df[\"Company Name\"] = df[\"Company Name\"].str.replace(\"customer|accounts|ccountnt|abcd|xyzabcd|AAA|aaa\", \"\",case=False)"
   ]
  },
  {
   "cell_type": "code",
   "execution_count": 34,
   "id": "32fa383b",
   "metadata": {},
   "outputs": [
    {
     "data": {
      "text/plain": [
       "(586936, 14)"
      ]
     },
     "execution_count": 34,
     "metadata": {},
     "output_type": "execute_result"
    }
   ],
   "source": [
    "df.shape"
   ]
  },
  {
   "cell_type": "code",
   "execution_count": null,
   "id": "acc6b04b",
   "metadata": {},
   "outputs": [],
   "source": [
    "# trim white spaces\n",
    "\n",
    "df = df.apply(lambda x: x.str.strip() if x.dtype == 'object' else x)"
   ]
  },
  {
   "cell_type": "code",
   "execution_count": 35,
   "id": "23cb9b43",
   "metadata": {},
   "outputs": [],
   "source": [
    "df = df.dropna(subset=[\"Email ID\",\"Company Name\"])"
   ]
  },
  {
   "cell_type": "code",
   "execution_count": 36,
   "id": "55014ff0",
   "metadata": {},
   "outputs": [
    {
     "name": "stdout",
     "output_type": "stream",
     "text": [
      "<class 'pandas.core.frame.DataFrame'>\n",
      "Int64Index: 586936 entries, 11 to 1037688\n",
      "Data columns (total 14 columns):\n",
      " #   Column           Non-Null Count   Dtype \n",
      "---  ------           --------------   ----- \n",
      " 0   Company Name     586936 non-null  object\n",
      " 1   Name             550810 non-null  object\n",
      " 2   Email ID         586936 non-null  object\n",
      " 3   Designation      315162 non-null  object\n",
      " 4   Mobile No        289736 non-null  object\n",
      " 5   Address          212509 non-null  object\n",
      " 6   Pincode          12402 non-null   object\n",
      " 7   City             235632 non-null  object\n",
      " 8   Website          13406 non-null   object\n",
      " 9   Company Type     586924 non-null  object\n",
      " 10  State            543860 non-null  object\n",
      " 11  Country          586563 non-null  object\n",
      " 12  Phone            293 non-null     object\n",
      " 13  Company details  477458 non-null  object\n",
      "dtypes: object(14)\n",
      "memory usage: 67.2+ MB\n"
     ]
    }
   ],
   "source": [
    "df.info()"
   ]
  },
  {
   "cell_type": "code",
   "execution_count": 37,
   "id": "24fa0c0e",
   "metadata": {},
   "outputs": [
    {
     "data": {
      "text/plain": [
       "(586936, 14)"
      ]
     },
     "execution_count": 37,
     "metadata": {},
     "output_type": "execute_result"
    }
   ],
   "source": [
    "df.shape"
   ]
  },
  {
   "cell_type": "code",
   "execution_count": 38,
   "id": "a1e373f5",
   "metadata": {},
   "outputs": [
    {
     "data": {
      "text/plain": [
       "1"
      ]
     },
     "execution_count": 38,
     "metadata": {},
     "output_type": "execute_result"
    }
   ],
   "source": [
    "df.duplicated().sum()"
   ]
  },
  {
   "cell_type": "code",
   "execution_count": 39,
   "id": "8e9c0f2e",
   "metadata": {},
   "outputs": [],
   "source": [
    "df = df.drop_duplicates()"
   ]
  },
  {
   "cell_type": "code",
   "execution_count": 44,
   "id": "0e5fe8fe",
   "metadata": {},
   "outputs": [
    {
     "data": {
      "text/plain": [
       "(586202, 14)"
      ]
     },
     "execution_count": 44,
     "metadata": {},
     "output_type": "execute_result"
    }
   ],
   "source": [
    "df.shape"
   ]
  },
  {
   "cell_type": "code",
   "execution_count": 45,
   "id": "aaccd359",
   "metadata": {},
   "outputs": [],
   "source": [
    "df.to_csv('Industry_Final_Cleaned.csv', index=False, header=True)"
   ]
  },
  {
   "cell_type": "code",
   "execution_count": null,
   "id": "c3b4a949",
   "metadata": {},
   "outputs": [],
   "source": [
    "df1 = pd.read_csv(r\"Industry_Final_Cleaned.csv\")\n",
    "df1.head()"
   ]
  },
  {
   "cell_type": "code",
   "execution_count": null,
   "id": "0461e5b5",
   "metadata": {},
   "outputs": [],
   "source": [
    "# splitting the industry data based on company type"
   ]
  },
  {
   "cell_type": "code",
   "execution_count": 4,
   "id": "1450d5cc",
   "metadata": {},
   "outputs": [
    {
     "data": {
      "text/html": [
       "<div>\n",
       "<style scoped>\n",
       "    .dataframe tbody tr th:only-of-type {\n",
       "        vertical-align: middle;\n",
       "    }\n",
       "\n",
       "    .dataframe tbody tr th {\n",
       "        vertical-align: top;\n",
       "    }\n",
       "\n",
       "    .dataframe thead th {\n",
       "        text-align: right;\n",
       "    }\n",
       "</style>\n",
       "<table border=\"1\" class=\"dataframe\">\n",
       "  <thead>\n",
       "    <tr style=\"text-align: right;\">\n",
       "      <th></th>\n",
       "      <th>Company Name</th>\n",
       "      <th>Name</th>\n",
       "      <th>Email ID</th>\n",
       "      <th>Designation</th>\n",
       "      <th>Mobile No</th>\n",
       "      <th>Address</th>\n",
       "      <th>Pincode</th>\n",
       "      <th>City</th>\n",
       "      <th>Website</th>\n",
       "      <th>Company Type</th>\n",
       "      <th>State</th>\n",
       "      <th>Country</th>\n",
       "      <th>Phone</th>\n",
       "      <th>Company details</th>\n",
       "    </tr>\n",
       "  </thead>\n",
       "  <tbody>\n",
       "    <tr>\n",
       "      <th>0</th>\n",
       "      <td>Sri &amp; Sri</td>\n",
       "      <td>M Sri</td>\n",
       "      <td>vicky24@vsnl.com</td>\n",
       "      <td>NaN</td>\n",
       "      <td>9886743577</td>\n",
       "      <td>Mathikere NULL 87</td>\n",
       "      <td>560054</td>\n",
       "      <td>Bangalore</td>\n",
       "      <td>NaN</td>\n",
       "      <td>Consulting services</td>\n",
       "      <td>NaN</td>\n",
       "      <td>India</td>\n",
       "      <td>NaN</td>\n",
       "      <td>NaN</td>\n",
       "    </tr>\n",
       "    <tr>\n",
       "      <th>1</th>\n",
       "      <td>Si Systems Software Solutions</td>\n",
       "      <td>Nagesh</td>\n",
       "      <td>internproj2011@gmail.com</td>\n",
       "      <td>NaN</td>\n",
       "      <td>9739489228</td>\n",
       "      <td>JP Nagar 24th Main 2nd Phase, JP Nagar  79/A, ...</td>\n",
       "      <td>560078</td>\n",
       "      <td>Bangalore</td>\n",
       "      <td>www.sisystemss.com</td>\n",
       "      <td>Consulting services</td>\n",
       "      <td>NaN</td>\n",
       "      <td>India</td>\n",
       "      <td>NaN</td>\n",
       "      <td>NaN</td>\n",
       "    </tr>\n",
       "    <tr>\n",
       "      <th>2</th>\n",
       "      <td>Vital Certifications</td>\n",
       "      <td>Rakesh Dwivedi</td>\n",
       "      <td>info@vitalcertifications.com</td>\n",
       "      <td>NaN</td>\n",
       "      <td>9716231789</td>\n",
       "      <td>Ganesh Nagar Raja Garden, Ring Road 18</td>\n",
       "      <td>110018</td>\n",
       "      <td>Delhi</td>\n",
       "      <td>www.vitalcertifications.com</td>\n",
       "      <td>Consulting services</td>\n",
       "      <td>NaN</td>\n",
       "      <td>India</td>\n",
       "      <td>NaN</td>\n",
       "      <td>NaN</td>\n",
       "    </tr>\n",
       "    <tr>\n",
       "      <th>3</th>\n",
       "      <td>Telcavepug Pvt Ltd</td>\n",
       "      <td>Praveen John Mohare</td>\n",
       "      <td>sales@telcave.co.in</td>\n",
       "      <td>NaN</td>\n",
       "      <td>9538880471</td>\n",
       "      <td>Domlur NULL 244</td>\n",
       "      <td>560071</td>\n",
       "      <td>Bangalore</td>\n",
       "      <td>www.telcave.co.in</td>\n",
       "      <td>Consulting services</td>\n",
       "      <td>NaN</td>\n",
       "      <td>India</td>\n",
       "      <td>NaN</td>\n",
       "      <td>NaN</td>\n",
       "    </tr>\n",
       "    <tr>\n",
       "      <th>4</th>\n",
       "      <td>Nevis Networks</td>\n",
       "      <td>Srinivas L</td>\n",
       "      <td>sriprinks@gmail.com</td>\n",
       "      <td>NaN</td>\n",
       "      <td>9322902052</td>\n",
       "      <td>NaN</td>\n",
       "      <td>NaN</td>\n",
       "      <td>Pune</td>\n",
       "      <td>NaN</td>\n",
       "      <td>Consulting services</td>\n",
       "      <td>Maharashtra</td>\n",
       "      <td>India</td>\n",
       "      <td>NaN</td>\n",
       "      <td>NaN</td>\n",
       "    </tr>\n",
       "  </tbody>\n",
       "</table>\n",
       "</div>"
      ],
      "text/plain": [
       "                    Company Name                 Name  \\\n",
       "0                      Sri & Sri                M Sri   \n",
       "1  Si Systems Software Solutions               Nagesh   \n",
       "2           Vital Certifications       Rakesh Dwivedi   \n",
       "3             Telcavepug Pvt Ltd  Praveen John Mohare   \n",
       "4                 Nevis Networks           Srinivas L   \n",
       "\n",
       "                       Email ID Designation   Mobile No  \\\n",
       "0              vicky24@vsnl.com         NaN  9886743577   \n",
       "1      internproj2011@gmail.com         NaN  9739489228   \n",
       "2  info@vitalcertifications.com         NaN  9716231789   \n",
       "3           sales@telcave.co.in         NaN  9538880471   \n",
       "4           sriprinks@gmail.com         NaN  9322902052   \n",
       "\n",
       "                                             Address Pincode       City  \\\n",
       "0                                  Mathikere NULL 87  560054  Bangalore   \n",
       "1  JP Nagar 24th Main 2nd Phase, JP Nagar  79/A, ...  560078  Bangalore   \n",
       "2             Ganesh Nagar Raja Garden, Ring Road 18  110018      Delhi   \n",
       "3                                    Domlur NULL 244  560071  Bangalore   \n",
       "4                                                NaN     NaN       Pune   \n",
       "\n",
       "                       Website         Company Type        State Country  \\\n",
       "0                          NaN  Consulting services          NaN   India   \n",
       "1           www.sisystemss.com  Consulting services          NaN   India   \n",
       "2  www.vitalcertifications.com  Consulting services          NaN   India   \n",
       "3            www.telcave.co.in  Consulting services          NaN   India   \n",
       "4                          NaN  Consulting services  Maharashtra   India   \n",
       "\n",
       "  Phone Company details  \n",
       "0   NaN             NaN  \n",
       "1   NaN             NaN  \n",
       "2   NaN             NaN  \n",
       "3   NaN             NaN  \n",
       "4   NaN             NaN  "
      ]
     },
     "execution_count": 4,
     "metadata": {},
     "output_type": "execute_result"
    }
   ],
   "source": [
    "df1 = pd.read_csv(r\"Industry_Final_Cleaned.csv\")\n",
    "df1.head()"
   ]
  },
  {
   "cell_type": "code",
   "execution_count": 5,
   "id": "b28376b5",
   "metadata": {},
   "outputs": [
    {
     "data": {
      "text/plain": [
       "(582256, 14)"
      ]
     },
     "execution_count": 5,
     "metadata": {},
     "output_type": "execute_result"
    }
   ],
   "source": [
    "df1.shape"
   ]
  },
  {
   "cell_type": "code",
   "execution_count": 6,
   "id": "8e11ef9b",
   "metadata": {},
   "outputs": [
    {
     "name": "stdout",
     "output_type": "stream",
     "text": [
      "<class 'pandas.core.frame.DataFrame'>\n",
      "RangeIndex: 582256 entries, 0 to 582255\n",
      "Data columns (total 14 columns):\n",
      " #   Column           Non-Null Count   Dtype \n",
      "---  ------           --------------   ----- \n",
      " 0   Company Name     582256 non-null  object\n",
      " 1   Name             546147 non-null  object\n",
      " 2   Email ID         582211 non-null  object\n",
      " 3   Designation      315149 non-null  object\n",
      " 4   Mobile No        285063 non-null  object\n",
      " 5   Address          209068 non-null  object\n",
      " 6   Pincode          12383 non-null   object\n",
      " 7   City             230978 non-null  object\n",
      " 8   Website          13397 non-null   object\n",
      " 9   Company Type     582256 non-null  object\n",
      " 10  State            539284 non-null  object\n",
      " 11  Country          581896 non-null  object\n",
      " 12  Phone            293 non-null     object\n",
      " 13  Company details  474310 non-null  object\n",
      "dtypes: object(14)\n",
      "memory usage: 62.2+ MB\n"
     ]
    }
   ],
   "source": [
    "df1.info()"
   ]
  },
  {
   "cell_type": "code",
   "execution_count": 7,
   "id": "2a4f8ace",
   "metadata": {},
   "outputs": [
    {
     "data": {
      "text/plain": [
       "0"
      ]
     },
     "execution_count": 7,
     "metadata": {},
     "output_type": "execute_result"
    }
   ],
   "source": [
    "df1.duplicated().sum()"
   ]
  },
  {
   "cell_type": "code",
   "execution_count": 8,
   "id": "dc8ed904",
   "metadata": {},
   "outputs": [],
   "source": [
    "# splitting the contact list data based on company type"
   ]
  },
  {
   "cell_type": "code",
   "execution_count": 10,
   "id": "aeca698a",
   "metadata": {},
   "outputs": [],
   "source": [
    "os.chdir(\"D:\\ABHYAZ INTERNSHIP\\MTC\\Industry Split data\")"
   ]
  },
  {
   "cell_type": "code",
   "execution_count": 11,
   "id": "8047ee52",
   "metadata": {},
   "outputs": [],
   "source": [
    "# spliting the data based on COMPANY TYPE\n",
    "    \n",
    "# Use the groupby function to group the data by the column you want to split by:\n",
    "\n",
    "grouped_data = df1.groupby('Company Type')"
   ]
  },
  {
   "cell_type": "code",
   "execution_count": 12,
   "id": "d07b8e3c",
   "metadata": {},
   "outputs": [],
   "source": [
    "# Loop through the groups and save them as separate Excel files:\n",
    "\n",
    "for group_name, group_data in grouped_data:\n",
    "    group_data.to_csv(f'{group_name}.csv', index=False)"
   ]
  },
  {
   "cell_type": "code",
   "execution_count": null,
   "id": "0ad57978",
   "metadata": {},
   "outputs": [],
   "source": []
  },
  {
   "cell_type": "code",
   "execution_count": null,
   "id": "3848c92e",
   "metadata": {},
   "outputs": [],
   "source": []
  }
 ],
 "metadata": {
  "kernelspec": {
   "display_name": "Python 3 (ipykernel)",
   "language": "python",
   "name": "python3"
  },
  "language_info": {
   "codemirror_mode": {
    "name": "ipython",
    "version": 3
   },
   "file_extension": ".py",
   "mimetype": "text/x-python",
   "name": "python",
   "nbconvert_exporter": "python",
   "pygments_lexer": "ipython3",
   "version": "3.9.12"
  }
 },
 "nbformat": 4,
 "nbformat_minor": 5
}

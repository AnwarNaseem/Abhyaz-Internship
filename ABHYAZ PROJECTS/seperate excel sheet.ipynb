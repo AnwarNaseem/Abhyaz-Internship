{
 "cells": [
  {
   "cell_type": "code",
   "execution_count": 1,
   "id": "cd30b2d7",
   "metadata": {},
   "outputs": [],
   "source": [
    "import pandas as pd\n",
    "import numpy as np "
   ]
  },
  {
   "cell_type": "code",
   "execution_count": 2,
   "id": "43534bdf",
   "metadata": {},
   "outputs": [],
   "source": [
    "import os\n",
    "os.getcwd()\n",
    "os.chdir(\"D:\\ABHYAZ INTERNSHIP\\MTC\")"
   ]
  },
  {
   "cell_type": "code",
   "execution_count": 3,
   "id": "92a81174",
   "metadata": {},
   "outputs": [],
   "source": [
    "# Load the Excel file into a pandas dataframe\n",
    "\n",
    "pec = pd.read_excel(r'PEC-Database.xlsx')"
   ]
  },
  {
   "cell_type": "code",
   "execution_count": 4,
   "id": "1a3b0dbe",
   "metadata": {},
   "outputs": [
    {
     "data": {
      "text/html": [
       "<div>\n",
       "<style scoped>\n",
       "    .dataframe tbody tr th:only-of-type {\n",
       "        vertical-align: middle;\n",
       "    }\n",
       "\n",
       "    .dataframe tbody tr th {\n",
       "        vertical-align: top;\n",
       "    }\n",
       "\n",
       "    .dataframe thead th {\n",
       "        text-align: right;\n",
       "    }\n",
       "</style>\n",
       "<table border=\"1\" class=\"dataframe\">\n",
       "  <thead>\n",
       "    <tr style=\"text-align: right;\">\n",
       "      <th></th>\n",
       "      <th>SID</th>\n",
       "      <th>Department Name</th>\n",
       "      <th>NAME</th>\n",
       "      <th>FATHER NAME</th>\n",
       "      <th>MOTHER NAME</th>\n",
       "      <th>CONTACTNUMBER</th>\n",
       "      <th>EMAILID</th>\n",
       "    </tr>\n",
       "  </thead>\n",
       "  <tbody>\n",
       "    <tr>\n",
       "      <th>0</th>\n",
       "      <td>19101001.0</td>\n",
       "      <td>Aerospace Engineering</td>\n",
       "      <td>JATIN KUMAR MANUJA</td>\n",
       "      <td>RAVINDRA KUMAR MANUJA</td>\n",
       "      <td>JYOTI</td>\n",
       "      <td>7375090883</td>\n",
       "      <td>JATINMANUJA84@GMAIL.COM</td>\n",
       "    </tr>\n",
       "    <tr>\n",
       "      <th>1</th>\n",
       "      <td>19101002.0</td>\n",
       "      <td>Aerospace Engineering</td>\n",
       "      <td>ABHI SHARMA</td>\n",
       "      <td>SATINDER PAL</td>\n",
       "      <td>SNEH LATA</td>\n",
       "      <td>9816207608</td>\n",
       "      <td>ABHISHARMA8226@GMAIL.COM</td>\n",
       "    </tr>\n",
       "    <tr>\n",
       "      <th>2</th>\n",
       "      <td>19101003.0</td>\n",
       "      <td>Aerospace Engineering</td>\n",
       "      <td>HARNAM SINGH MALHOTRA</td>\n",
       "      <td>HARVINDER PAL</td>\n",
       "      <td>NaN</td>\n",
       "      <td>7807200038</td>\n",
       "      <td>EXTRAVIADOLIGERO@GMAIL.COM</td>\n",
       "    </tr>\n",
       "    <tr>\n",
       "      <th>3</th>\n",
       "      <td>19101004.0</td>\n",
       "      <td>Aerospace Engineering</td>\n",
       "      <td>DIVIJ ARORA</td>\n",
       "      <td>KUNAL ARORA</td>\n",
       "      <td>KAREN ARORA</td>\n",
       "      <td>7973547703</td>\n",
       "      <td>DIVIJARTORA28@GMAIL.COM</td>\n",
       "    </tr>\n",
       "    <tr>\n",
       "      <th>4</th>\n",
       "      <td>19101005.0</td>\n",
       "      <td>Aerospace Engineering</td>\n",
       "      <td>PALVI</td>\n",
       "      <td>RAJIV KUMAR CHOPRA</td>\n",
       "      <td>MONIKA CHOPRA</td>\n",
       "      <td>7526837772</td>\n",
       "      <td>PALVICHOPRA10@GMAIL.COM</td>\n",
       "    </tr>\n",
       "  </tbody>\n",
       "</table>\n",
       "</div>"
      ],
      "text/plain": [
       "          SID        Department Name                   NAME  \\\n",
       "0  19101001.0  Aerospace Engineering     JATIN KUMAR MANUJA   \n",
       "1  19101002.0  Aerospace Engineering            ABHI SHARMA   \n",
       "2  19101003.0  Aerospace Engineering  HARNAM SINGH MALHOTRA   \n",
       "3  19101004.0  Aerospace Engineering            DIVIJ ARORA   \n",
       "4  19101005.0  Aerospace Engineering                  PALVI   \n",
       "\n",
       "             FATHER NAME    MOTHER NAME CONTACTNUMBER  \\\n",
       "0  RAVINDRA KUMAR MANUJA          JYOTI    7375090883   \n",
       "1           SATINDER PAL      SNEH LATA    9816207608   \n",
       "2          HARVINDER PAL            NaN    7807200038   \n",
       "3            KUNAL ARORA    KAREN ARORA    7973547703   \n",
       "4     RAJIV KUMAR CHOPRA  MONIKA CHOPRA    7526837772   \n",
       "\n",
       "                      EMAILID  \n",
       "0     JATINMANUJA84@GMAIL.COM  \n",
       "1    ABHISHARMA8226@GMAIL.COM  \n",
       "2  EXTRAVIADOLIGERO@GMAIL.COM  \n",
       "3     DIVIJARTORA28@GMAIL.COM  \n",
       "4     PALVICHOPRA10@GMAIL.COM  "
      ]
     },
     "execution_count": 4,
     "metadata": {},
     "output_type": "execute_result"
    }
   ],
   "source": [
    "pec.head()"
   ]
  },
  {
   "cell_type": "code",
   "execution_count": 5,
   "id": "a8ef93f5",
   "metadata": {},
   "outputs": [],
   "source": [
    "pec = pd.ExcelFile('PEC-Database.xlsx')\n",
    "\n",
    "# Loop through each sheet in the Excel file\n",
    "for sheet_name in pec.sheet_names:\n",
    "    \n",
    "    # Load the sheet into a pandas dataframe\n",
    "    sheet = pd.read_excel(pec, sheet_name)\n",
    "    \n",
    "    # Save the sheet to a separate file\n",
    "    sheet.to_excel(f'{sheet_name}.xlsx', index=False)"
   ]
  },
  {
   "cell_type": "code",
   "execution_count": null,
   "id": "810eb744",
   "metadata": {},
   "outputs": [],
   "source": []
  },
  {
   "cell_type": "code",
   "execution_count": null,
   "id": "145b8dc0",
   "metadata": {},
   "outputs": [],
   "source": [
    "# file merge\n",
    "\n",
    "merge=[industry_nagpur,gulf]\n",
    "\n",
    "merge=[address,Pincode] \n",
    "\n",
    "Address=pd.concat(merge)"
   ]
  },
  {
   "cell_type": "raw",
   "id": "79cafeaa",
   "metadata": {},
   "source": [
    "https://datagy.io/create-new-columns-in-pandas/"
   ]
  },
  {
   "cell_type": "code",
   "execution_count": null,
   "id": "2fb9913b",
   "metadata": {},
   "outputs": [],
   "source": [
    "# Split String Columns in Pandas\n",
    "\n",
    "df[['First Name New', 'Last Name New']] = df['Name'].str.split(' ', expand=True)\n",
    "print(df)"
   ]
  },
  {
   "cell_type": "code",
   "execution_count": null,
   "id": "cba03b7e",
   "metadata": {},
   "outputs": [],
   "source": []
  },
  {
   "cell_type": "code",
   "execution_count": null,
   "id": "76655eb6",
   "metadata": {},
   "outputs": [],
   "source": [
    "import pandas as pd\n",
    "\n",
    "# create a dataframe\n",
    "df = pd.DataFrame({'name': ['John', 'Alice', 'Bob'], 'age': [25, 30, 35]})\n",
    "\n",
    "# create a new column with a constant value\n",
    "df['city'] = 'New York'\n",
    "\n",
    "# create a new column by applying a function to existing columns\n",
    "df['age_in_months'] = df['age'] * 12\n",
    "\n",
    "# create a new column by applying a lambda function to existing columns\n",
    "df['age_squared'] = df['age'].apply(lambda x: x ** 2)\n",
    "\n",
    "# create a new column by conditional logic\n",
    "df['is_old'] = df['age'] > 30\n"
   ]
  },
  {
   "cell_type": "code",
   "execution_count": null,
   "id": "fe5a3198",
   "metadata": {},
   "outputs": [],
   "source": []
  },
  {
   "cell_type": "code",
   "execution_count": null,
   "id": "13f820d3",
   "metadata": {},
   "outputs": [],
   "source": []
  },
  {
   "cell_type": "code",
   "execution_count": null,
   "id": "8a7b78cc",
   "metadata": {},
   "outputs": [],
   "source": []
  },
  {
   "cell_type": "code",
   "execution_count": 12,
   "id": "1c1d748c",
   "metadata": {},
   "outputs": [
    {
     "name": "stdout",
     "output_type": "stream",
     "text": [
      "Requirement already satisfied: openpyxl in c:\\users\\anwar\\anaconda3\\lib\\site-packages (3.0.9)Note: you may need to restart the kernel to use updated packages.\n",
      "\n",
      "Requirement already satisfied: et-xmlfile in c:\\users\\anwar\\anaconda3\\lib\\site-packages (from openpyxl) (1.1.0)\n"
     ]
    }
   ],
   "source": [
    "pip install openpyxl"
   ]
  },
  {
   "cell_type": "code",
   "execution_count": 13,
   "id": "2710b9e0",
   "metadata": {},
   "outputs": [],
   "source": [
    "from openpyxl import load_workbook\n",
    "from openpyxl.workbook.workbook import Workbook"
   ]
  },
  {
   "cell_type": "code",
   "execution_count": 14,
   "id": "48a32b50",
   "metadata": {},
   "outputs": [],
   "source": [
    "wb = load_workbook(filename='PEC-Database.xlsx')"
   ]
  },
  {
   "cell_type": "code",
   "execution_count": 15,
   "id": "2dbd79b8",
   "metadata": {},
   "outputs": [],
   "source": [
    "# Loop through each sheet in the workbook and create a new workbook for each sheet:\n",
    "\n",
    "for sheet in wb:\n",
    "    new_wb = Workbook()\n",
    "    new_wb.remove(new_wb.active)\n",
    "    new_wb.create_sheet(title=sheet.title)\n"
   ]
  },
  {
   "cell_type": "code",
   "execution_count": 16,
   "id": "e82060d1",
   "metadata": {},
   "outputs": [],
   "source": [
    "# Copy the contents of the original sheet to the new workbook:\n",
    "\n",
    "for sheet in wb:\n",
    "    new_wb = Workbook()\n",
    "    new_wb.remove(new_wb.active)\n",
    "    new_wb.create_sheet(title=sheet.title)\n",
    "    new_sheet = new_wb[sheet.title]\n",
    "    for row in sheet:\n",
    "        for cell in row:\n",
    "            new_sheet[cell.coordinate].value = cell.value\n"
   ]
  },
  {
   "cell_type": "code",
   "execution_count": 17,
   "id": "98133675",
   "metadata": {},
   "outputs": [],
   "source": [
    "# Save each new workbook as a separate file:\n",
    "\n",
    "for sheet in wb:\n",
    "    new_wb = Workbook()\n",
    "    new_wb.remove(new_wb.active)\n",
    "    new_wb.create_sheet(title=sheet.title)\n",
    "    new_sheet = new_wb[sheet.title]\n",
    "    for row in sheet:\n",
    "        for cell in row:\n",
    "            new_sheet[cell.coordinate].value = cell.value\n",
    "    new_wb.save(sheet.title + '.xlsx')\n"
   ]
  },
  {
   "cell_type": "code",
   "execution_count": null,
   "id": "0fdf4bfe",
   "metadata": {},
   "outputs": [],
   "source": []
  },
  {
   "cell_type": "code",
   "execution_count": null,
   "id": "a627fa42",
   "metadata": {},
   "outputs": [],
   "source": [
    "import pandas as pd\n",
    "\n",
    "# Load the Excel sheet into a DataFrame\n",
    "df = pd.read_excel('data.xlsx', sheet_name='Sheet1')\n",
    "\n",
    "grouped = df.groupby('category')\n"
   ]
  },
  {
   "cell_type": "code",
   "execution_count": null,
   "id": "445a4463",
   "metadata": {},
   "outputs": [],
   "source": [
    "# Iterate through the groups\n",
    "for name, group in grouped:\n",
    "    # Save the group to a separate Excel file\n",
    "    group.to_excel(f'{name}.xlsx', index=False)\n"
   ]
  },
  {
   "cell_type": "code",
   "execution_count": null,
   "id": "5053c7f3",
   "metadata": {},
   "outputs": [],
   "source": []
  },
  {
   "cell_type": "code",
   "execution_count": null,
   "id": "1955e659",
   "metadata": {},
   "outputs": [],
   "source": [
    "# merging columns\n",
    "\n",
    "newf[\"ADdress\"] = newf['Address'].astype(str) +\",\"+ newf[\"Address.1\"].astype(str)+\",\"+ newf[\"Address.2\"].astype(str)+\",\"+ newf[\"Address.3\"].astype(str)\n",
    "newf.info()"
   ]
  },
  {
   "cell_type": "code",
   "execution_count": null,
   "id": "a930fed7",
   "metadata": {},
   "outputs": [],
   "source": [
    "# merging columns in pandas\n",
    "\n",
    "\n"
   ]
  }
 ],
 "metadata": {
  "kernelspec": {
   "display_name": "Python 3 (ipykernel)",
   "language": "python",
   "name": "python3"
  },
  "language_info": {
   "codemirror_mode": {
    "name": "ipython",
    "version": 3
   },
   "file_extension": ".py",
   "mimetype": "text/x-python",
   "name": "python",
   "nbconvert_exporter": "python",
   "pygments_lexer": "ipython3",
   "version": "3.9.12"
  }
 },
 "nbformat": 4,
 "nbformat_minor": 5
}

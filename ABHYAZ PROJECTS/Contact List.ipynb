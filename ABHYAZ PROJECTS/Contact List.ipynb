{
 "cells": [
  {
   "cell_type": "code",
   "execution_count": 1,
   "id": "ccf2c39b",
   "metadata": {},
   "outputs": [],
   "source": [
    "import pandas as pd\n",
    "import numpy as np \n",
    "\n",
    "import warnings\n",
    "warnings.filterwarnings('ignore')"
   ]
  },
  {
   "cell_type": "code",
   "execution_count": 2,
   "id": "e4debbfe",
   "metadata": {},
   "outputs": [],
   "source": [
    "import os\n",
    "os.getcwd()\n",
    "os.chdir(\"D:\\ABHYAZ INTERNSHIP\\MTC\")"
   ]
  },
  {
   "cell_type": "code",
   "execution_count": 3,
   "id": "6e9e0ccf",
   "metadata": {},
   "outputs": [
    {
     "data": {
      "text/html": [
       "<div>\n",
       "<style scoped>\n",
       "    .dataframe tbody tr th:only-of-type {\n",
       "        vertical-align: middle;\n",
       "    }\n",
       "\n",
       "    .dataframe tbody tr th {\n",
       "        vertical-align: top;\n",
       "    }\n",
       "\n",
       "    .dataframe thead th {\n",
       "        text-align: right;\n",
       "    }\n",
       "</style>\n",
       "<table border=\"1\" class=\"dataframe\">\n",
       "  <thead>\n",
       "    <tr style=\"text-align: right;\">\n",
       "      <th></th>\n",
       "      <th>Company Name</th>\n",
       "      <th>Name</th>\n",
       "      <th>Email ID</th>\n",
       "      <th>Designation</th>\n",
       "      <th>Mobile No</th>\n",
       "      <th>Address</th>\n",
       "      <th>Pincode</th>\n",
       "      <th>City</th>\n",
       "      <th>Website</th>\n",
       "      <th>Company Type</th>\n",
       "      <th>State</th>\n",
       "      <th>Country</th>\n",
       "      <th>Phone</th>\n",
       "      <th>Company details</th>\n",
       "    </tr>\n",
       "  </thead>\n",
       "  <tbody>\n",
       "    <tr>\n",
       "      <th>0</th>\n",
       "      <td>Sri &amp; Sri</td>\n",
       "      <td>M Sri</td>\n",
       "      <td>vicky24@vsnl.com</td>\n",
       "      <td>NaN</td>\n",
       "      <td>9886743577</td>\n",
       "      <td>Mathikere NULL 87</td>\n",
       "      <td>560054</td>\n",
       "      <td>Bangalore</td>\n",
       "      <td>NaN</td>\n",
       "      <td>Consulting services</td>\n",
       "      <td>NaN</td>\n",
       "      <td>India</td>\n",
       "      <td>NaN</td>\n",
       "      <td>NaN</td>\n",
       "    </tr>\n",
       "    <tr>\n",
       "      <th>1</th>\n",
       "      <td>Si Systems Software Solutions</td>\n",
       "      <td>Nagesh</td>\n",
       "      <td>internproj2011@gmail.com</td>\n",
       "      <td>NaN</td>\n",
       "      <td>9739489228</td>\n",
       "      <td>JP Nagar 24th Main 2nd Phase, JP Nagar  79/A, ...</td>\n",
       "      <td>560078</td>\n",
       "      <td>Bangalore</td>\n",
       "      <td>www.sisystemss.com</td>\n",
       "      <td>Consulting services</td>\n",
       "      <td>NaN</td>\n",
       "      <td>India</td>\n",
       "      <td>NaN</td>\n",
       "      <td>NaN</td>\n",
       "    </tr>\n",
       "    <tr>\n",
       "      <th>2</th>\n",
       "      <td>Vital Certifications</td>\n",
       "      <td>Rakesh Dwivedi</td>\n",
       "      <td>info@vitalcertifications.com</td>\n",
       "      <td>NaN</td>\n",
       "      <td>9716231789</td>\n",
       "      <td>Ganesh Nagar Raja Garden, Ring Road 18</td>\n",
       "      <td>110018</td>\n",
       "      <td>Delhi</td>\n",
       "      <td>www.vitalcertifications.com</td>\n",
       "      <td>Consulting services</td>\n",
       "      <td>NaN</td>\n",
       "      <td>India</td>\n",
       "      <td>NaN</td>\n",
       "      <td>NaN</td>\n",
       "    </tr>\n",
       "    <tr>\n",
       "      <th>3</th>\n",
       "      <td>Telcavepug Pvt Ltd</td>\n",
       "      <td>Praveen John Mohare</td>\n",
       "      <td>sales@telcave.co.in</td>\n",
       "      <td>NaN</td>\n",
       "      <td>9538880471</td>\n",
       "      <td>Domlur NULL 244</td>\n",
       "      <td>560071</td>\n",
       "      <td>Bangalore</td>\n",
       "      <td>www.telcave.co.in</td>\n",
       "      <td>Consulting services</td>\n",
       "      <td>NaN</td>\n",
       "      <td>India</td>\n",
       "      <td>NaN</td>\n",
       "      <td>NaN</td>\n",
       "    </tr>\n",
       "    <tr>\n",
       "      <th>4</th>\n",
       "      <td>Nevis Networks</td>\n",
       "      <td>Srinivas L</td>\n",
       "      <td>sriprinks@gmail.com</td>\n",
       "      <td>NaN</td>\n",
       "      <td>9322902052</td>\n",
       "      <td>NaN</td>\n",
       "      <td>NaN</td>\n",
       "      <td>Pune</td>\n",
       "      <td>NaN</td>\n",
       "      <td>Consulting services</td>\n",
       "      <td>Maharashtra</td>\n",
       "      <td>India</td>\n",
       "      <td>NaN</td>\n",
       "      <td>NaN</td>\n",
       "    </tr>\n",
       "  </tbody>\n",
       "</table>\n",
       "</div>"
      ],
      "text/plain": [
       "                    Company Name                 Name  \\\n",
       "0                      Sri & Sri                M Sri   \n",
       "1  Si Systems Software Solutions               Nagesh   \n",
       "2           Vital Certifications       Rakesh Dwivedi   \n",
       "3             Telcavepug Pvt Ltd  Praveen John Mohare   \n",
       "4                 Nevis Networks           Srinivas L   \n",
       "\n",
       "                       Email ID Designation   Mobile No  \\\n",
       "0              vicky24@vsnl.com         NaN  9886743577   \n",
       "1      internproj2011@gmail.com         NaN  9739489228   \n",
       "2  info@vitalcertifications.com         NaN  9716231789   \n",
       "3           sales@telcave.co.in         NaN  9538880471   \n",
       "4           sriprinks@gmail.com         NaN  9322902052   \n",
       "\n",
       "                                             Address Pincode       City  \\\n",
       "0                                  Mathikere NULL 87  560054  Bangalore   \n",
       "1  JP Nagar 24th Main 2nd Phase, JP Nagar  79/A, ...  560078  Bangalore   \n",
       "2             Ganesh Nagar Raja Garden, Ring Road 18  110018      Delhi   \n",
       "3                                    Domlur NULL 244  560071  Bangalore   \n",
       "4                                                NaN     NaN       Pune   \n",
       "\n",
       "                       Website         Company Type        State Country  \\\n",
       "0                          NaN  Consulting services          NaN   India   \n",
       "1           www.sisystemss.com  Consulting services          NaN   India   \n",
       "2  www.vitalcertifications.com  Consulting services          NaN   India   \n",
       "3            www.telcave.co.in  Consulting services          NaN   India   \n",
       "4                          NaN  Consulting services  Maharashtra   India   \n",
       "\n",
       "  Phone Company details  \n",
       "0   NaN             NaN  \n",
       "1   NaN             NaN  \n",
       "2   NaN             NaN  \n",
       "3   NaN             NaN  \n",
       "4   NaN             NaN  "
      ]
     },
     "execution_count": 3,
     "metadata": {},
     "output_type": "execute_result"
    }
   ],
   "source": [
    "df1 = pd.read_csv(r\"Industry_Final_Cleaned.csv\")\n",
    "df1.head()"
   ]
  },
  {
   "cell_type": "code",
   "execution_count": 4,
   "id": "f21e3368",
   "metadata": {},
   "outputs": [],
   "source": [
    "# Extracting the data for contact list from main data"
   ]
  },
  {
   "cell_type": "code",
   "execution_count": 5,
   "id": "88c15976",
   "metadata": {},
   "outputs": [],
   "source": [
    "# Extract columns A, B, and C\n",
    "\n",
    "df2 = df1[['Company Name','Email ID','Company Type']]"
   ]
  },
  {
   "cell_type": "code",
   "execution_count": 6,
   "id": "1040201b",
   "metadata": {},
   "outputs": [
    {
     "data": {
      "text/html": [
       "<div>\n",
       "<style scoped>\n",
       "    .dataframe tbody tr th:only-of-type {\n",
       "        vertical-align: middle;\n",
       "    }\n",
       "\n",
       "    .dataframe tbody tr th {\n",
       "        vertical-align: top;\n",
       "    }\n",
       "\n",
       "    .dataframe thead th {\n",
       "        text-align: right;\n",
       "    }\n",
       "</style>\n",
       "<table border=\"1\" class=\"dataframe\">\n",
       "  <thead>\n",
       "    <tr style=\"text-align: right;\">\n",
       "      <th></th>\n",
       "      <th>Company Name</th>\n",
       "      <th>Email ID</th>\n",
       "      <th>Company Type</th>\n",
       "    </tr>\n",
       "  </thead>\n",
       "  <tbody>\n",
       "    <tr>\n",
       "      <th>0</th>\n",
       "      <td>Sri &amp; Sri</td>\n",
       "      <td>vicky24@vsnl.com</td>\n",
       "      <td>Consulting services</td>\n",
       "    </tr>\n",
       "    <tr>\n",
       "      <th>1</th>\n",
       "      <td>Si Systems Software Solutions</td>\n",
       "      <td>internproj2011@gmail.com</td>\n",
       "      <td>Consulting services</td>\n",
       "    </tr>\n",
       "    <tr>\n",
       "      <th>2</th>\n",
       "      <td>Vital Certifications</td>\n",
       "      <td>info@vitalcertifications.com</td>\n",
       "      <td>Consulting services</td>\n",
       "    </tr>\n",
       "    <tr>\n",
       "      <th>3</th>\n",
       "      <td>Telcavepug Pvt Ltd</td>\n",
       "      <td>sales@telcave.co.in</td>\n",
       "      <td>Consulting services</td>\n",
       "    </tr>\n",
       "    <tr>\n",
       "      <th>4</th>\n",
       "      <td>Nevis Networks</td>\n",
       "      <td>sriprinks@gmail.com</td>\n",
       "      <td>Consulting services</td>\n",
       "    </tr>\n",
       "  </tbody>\n",
       "</table>\n",
       "</div>"
      ],
      "text/plain": [
       "                    Company Name                      Email ID  \\\n",
       "0                      Sri & Sri              vicky24@vsnl.com   \n",
       "1  Si Systems Software Solutions      internproj2011@gmail.com   \n",
       "2           Vital Certifications  info@vitalcertifications.com   \n",
       "3             Telcavepug Pvt Ltd           sales@telcave.co.in   \n",
       "4                 Nevis Networks           sriprinks@gmail.com   \n",
       "\n",
       "          Company Type  \n",
       "0  Consulting services  \n",
       "1  Consulting services  \n",
       "2  Consulting services  \n",
       "3  Consulting services  \n",
       "4  Consulting services  "
      ]
     },
     "execution_count": 6,
     "metadata": {},
     "output_type": "execute_result"
    }
   ],
   "source": [
    "df2.head()"
   ]
  },
  {
   "cell_type": "code",
   "execution_count": 7,
   "id": "5972a1a2",
   "metadata": {},
   "outputs": [
    {
     "name": "stdout",
     "output_type": "stream",
     "text": [
      "<class 'pandas.core.frame.DataFrame'>\n",
      "RangeIndex: 582256 entries, 0 to 582255\n",
      "Data columns (total 3 columns):\n",
      " #   Column        Non-Null Count   Dtype \n",
      "---  ------        --------------   ----- \n",
      " 0   Company Name  582256 non-null  object\n",
      " 1   Email ID      582211 non-null  object\n",
      " 2   Company Type  582256 non-null  object\n",
      "dtypes: object(3)\n",
      "memory usage: 13.3+ MB\n"
     ]
    }
   ],
   "source": [
    "df2.info()"
   ]
  },
  {
   "cell_type": "code",
   "execution_count": 8,
   "id": "9a34902a",
   "metadata": {},
   "outputs": [
    {
     "data": {
      "text/plain": [
       "Company Name     0\n",
       "Email ID        45\n",
       "Company Type     0\n",
       "dtype: int64"
      ]
     },
     "execution_count": 8,
     "metadata": {},
     "output_type": "execute_result"
    }
   ],
   "source": [
    "df2.isnull().sum()"
   ]
  },
  {
   "cell_type": "code",
   "execution_count": 9,
   "id": "a7b80b9b",
   "metadata": {},
   "outputs": [],
   "source": [
    "df2 = df2.dropna()"
   ]
  },
  {
   "cell_type": "code",
   "execution_count": 10,
   "id": "37af5134",
   "metadata": {},
   "outputs": [
    {
     "data": {
      "text/plain": [
       "Company Name    0\n",
       "Email ID        0\n",
       "Company Type    0\n",
       "dtype: int64"
      ]
     },
     "execution_count": 10,
     "metadata": {},
     "output_type": "execute_result"
    }
   ],
   "source": [
    "df2.isnull().sum()"
   ]
  },
  {
   "cell_type": "code",
   "execution_count": 11,
   "id": "c081b62e",
   "metadata": {},
   "outputs": [
    {
     "name": "stdout",
     "output_type": "stream",
     "text": [
      "<class 'pandas.core.frame.DataFrame'>\n",
      "Int64Index: 582211 entries, 0 to 582255\n",
      "Data columns (total 3 columns):\n",
      " #   Column        Non-Null Count   Dtype \n",
      "---  ------        --------------   ----- \n",
      " 0   Company Name  582211 non-null  object\n",
      " 1   Email ID      582211 non-null  object\n",
      " 2   Company Type  582211 non-null  object\n",
      "dtypes: object(3)\n",
      "memory usage: 17.8+ MB\n"
     ]
    }
   ],
   "source": [
    "df2.info()"
   ]
  },
  {
   "cell_type": "code",
   "execution_count": 12,
   "id": "ab4b14ae",
   "metadata": {},
   "outputs": [
    {
     "data": {
      "text/html": [
       "<div>\n",
       "<style scoped>\n",
       "    .dataframe tbody tr th:only-of-type {\n",
       "        vertical-align: middle;\n",
       "    }\n",
       "\n",
       "    .dataframe tbody tr th {\n",
       "        vertical-align: top;\n",
       "    }\n",
       "\n",
       "    .dataframe thead th {\n",
       "        text-align: right;\n",
       "    }\n",
       "</style>\n",
       "<table border=\"1\" class=\"dataframe\">\n",
       "  <thead>\n",
       "    <tr style=\"text-align: right;\">\n",
       "      <th></th>\n",
       "      <th>Number of missing values</th>\n",
       "    </tr>\n",
       "  </thead>\n",
       "  <tbody>\n",
       "    <tr>\n",
       "      <th>Company Name</th>\n",
       "      <td>0</td>\n",
       "    </tr>\n",
       "    <tr>\n",
       "      <th>Email ID</th>\n",
       "      <td>0</td>\n",
       "    </tr>\n",
       "    <tr>\n",
       "      <th>Company Type</th>\n",
       "      <td>0</td>\n",
       "    </tr>\n",
       "  </tbody>\n",
       "</table>\n",
       "</div>"
      ],
      "text/plain": [
       "              Number of missing values\n",
       "Company Name                         0\n",
       "Email ID                             0\n",
       "Company Type                         0"
      ]
     },
     "execution_count": 12,
     "metadata": {},
     "output_type": "execute_result"
    }
   ],
   "source": [
    "pd.DataFrame(df2.isnull().sum(),columns=['Number of missing values'])"
   ]
  },
  {
   "cell_type": "code",
   "execution_count": 13,
   "id": "a2fdba0f",
   "metadata": {},
   "outputs": [],
   "source": [
    "# trim white spaces\n",
    "\n",
    "df2 = df2.apply(lambda x: x.str.strip() if x.dtype == 'object' else x)"
   ]
  },
  {
   "cell_type": "code",
   "execution_count": 14,
   "id": "bc25742c",
   "metadata": {},
   "outputs": [],
   "source": [
    "df2 = df2.dropna(subset=[\"Email ID\",\"Company Name\"])"
   ]
  },
  {
   "cell_type": "code",
   "execution_count": 15,
   "id": "a8e354fe",
   "metadata": {},
   "outputs": [
    {
     "data": {
      "text/plain": [
       "(582211, 3)"
      ]
     },
     "execution_count": 15,
     "metadata": {},
     "output_type": "execute_result"
    }
   ],
   "source": [
    "df2.shape"
   ]
  },
  {
   "cell_type": "code",
   "execution_count": 16,
   "id": "028a9221",
   "metadata": {},
   "outputs": [
    {
     "data": {
      "text/plain": [
       "32265"
      ]
     },
     "execution_count": 16,
     "metadata": {},
     "output_type": "execute_result"
    }
   ],
   "source": [
    "df2.duplicated().sum()"
   ]
  },
  {
   "cell_type": "code",
   "execution_count": 17,
   "id": "dd311bc9",
   "metadata": {},
   "outputs": [],
   "source": [
    "df2 = df2.drop_duplicates()"
   ]
  },
  {
   "cell_type": "code",
   "execution_count": 18,
   "id": "627891e5",
   "metadata": {},
   "outputs": [
    {
     "data": {
      "text/plain": [
       "(549946, 3)"
      ]
     },
     "execution_count": 18,
     "metadata": {},
     "output_type": "execute_result"
    }
   ],
   "source": [
    "df2.shape"
   ]
  },
  {
   "cell_type": "code",
   "execution_count": 19,
   "id": "0333e66c",
   "metadata": {},
   "outputs": [],
   "source": [
    "df2.to_csv('contact_list_final.csv', index=False, header=True)"
   ]
  },
  {
   "cell_type": "code",
   "execution_count": null,
   "id": "379beccf",
   "metadata": {},
   "outputs": [],
   "source": [
    "# splitting the contact list data based on company type"
   ]
  },
  {
   "cell_type": "code",
   "execution_count": 20,
   "id": "f4def5e1",
   "metadata": {},
   "outputs": [],
   "source": [
    "os.chdir(\"D:\\ABHYAZ INTERNSHIP\\MTC\\Contact List Data\")"
   ]
  },
  {
   "cell_type": "code",
   "execution_count": 20,
   "id": "148ba636",
   "metadata": {},
   "outputs": [],
   "source": [
    "# spliting the data based on COMPANY TYPE\n",
    "    \n",
    "# Use the groupby function to group the data by the column you want to split by:\n",
    "\n",
    "grouped_data = df2.groupby('Company Type')"
   ]
  },
  {
   "cell_type": "code",
   "execution_count": 21,
   "id": "4023d172",
   "metadata": {},
   "outputs": [],
   "source": [
    "# Loop through the groups and save them as separate Excel files:\n",
    "\n",
    "for group_name, group_data in grouped_data:\n",
    "    group_data.to_csv(f'{group_name}.csv', index=False)"
   ]
  },
  {
   "cell_type": "markdown",
   "id": "642ef5cf",
   "metadata": {},
   "source": [
    "DIVIDING EACH COMPANY TYPE FILE INTO SMALL FILES"
   ]
  },
  {
   "cell_type": "code",
   "execution_count": 22,
   "id": "9dc261f4",
   "metadata": {},
   "outputs": [],
   "source": [
    "os.chdir(\"D:\\ABHYAZ INTERNSHIP\\MTC\\Contact List Data\\Company Secretary\")"
   ]
  },
  {
   "cell_type": "code",
   "execution_count": 23,
   "id": "ea1e778a",
   "metadata": {},
   "outputs": [],
   "source": [
    "chunk_size = 500\n",
    "split = 1\n",
    "\n",
    "for chunk in pd.read_csv('Company Secretary.csv', chunksize=chunk_size):\n",
    "    chunk.to_csv('Company Secretary ' + str(split) + '.csv', index=False)\n",
    "    split += 1"
   ]
  },
  {
   "cell_type": "code",
   "execution_count": 24,
   "id": "888622cb",
   "metadata": {},
   "outputs": [],
   "source": [
    "os.chdir(\"D:\\ABHYAZ INTERNSHIP\\MTC\\Contact List Data\\Consulting services\")"
   ]
  },
  {
   "cell_type": "code",
   "execution_count": 25,
   "id": "7c5a13d7",
   "metadata": {},
   "outputs": [],
   "source": [
    "chunk_size = 500\n",
    "split = 1\n",
    "\n",
    "for chunk in pd.read_csv('Consulting services.csv', chunksize=chunk_size):\n",
    "    chunk.to_csv('Consulting services ' + str(split) + '.csv', index=False)\n",
    "    split += 1"
   ]
  },
  {
   "cell_type": "code",
   "execution_count": 26,
   "id": "3be2aa82",
   "metadata": {},
   "outputs": [],
   "source": [
    "os.chdir(\"D:\\ABHYAZ INTERNSHIP\\MTC\\Contact List Data\\Education\")"
   ]
  },
  {
   "cell_type": "code",
   "execution_count": 27,
   "id": "9a9efe9c",
   "metadata": {},
   "outputs": [],
   "source": [
    "chunk_size = 500\n",
    "split = 1\n",
    "\n",
    "for chunk in pd.read_csv('Education.csv', chunksize=chunk_size):\n",
    "    chunk.to_csv('Education ' + str(split) + '.csv', index=False)\n",
    "    split += 1"
   ]
  },
  {
   "cell_type": "code",
   "execution_count": 28,
   "id": "e8710931",
   "metadata": {},
   "outputs": [],
   "source": [
    "os.chdir(\"D:\\ABHYAZ INTERNSHIP\\MTC\\Contact List Data\\Financial\")"
   ]
  },
  {
   "cell_type": "code",
   "execution_count": 29,
   "id": "eeb87f11",
   "metadata": {},
   "outputs": [],
   "source": [
    "chunk_size = 500\n",
    "split = 1\n",
    "\n",
    "for chunk in pd.read_csv('Financial.csv', chunksize=chunk_size):\n",
    "    chunk.to_csv('Financial ' + str(split) + '.csv', index=False)\n",
    "    split += 1"
   ]
  },
  {
   "cell_type": "code",
   "execution_count": 30,
   "id": "b8dfd118",
   "metadata": {},
   "outputs": [],
   "source": [
    "os.chdir(\"D:\\ABHYAZ INTERNSHIP\\MTC\\Contact List Data\\Government\")"
   ]
  },
  {
   "cell_type": "code",
   "execution_count": 31,
   "id": "5afa5727",
   "metadata": {},
   "outputs": [],
   "source": [
    "chunk_size = 500\n",
    "split = 1\n",
    "\n",
    "for chunk in pd.read_csv('Government.csv', chunksize=chunk_size):\n",
    "    chunk.to_csv('Government ' + str(split) + '.csv', index=False)\n",
    "    split += 1"
   ]
  },
  {
   "cell_type": "code",
   "execution_count": 32,
   "id": "7b14f2e2",
   "metadata": {},
   "outputs": [],
   "source": [
    "os.chdir(\"D:\\ABHYAZ INTERNSHIP\\MTC\\Contact List Data\\Information Technology\")"
   ]
  },
  {
   "cell_type": "code",
   "execution_count": 33,
   "id": "34c298ff",
   "metadata": {},
   "outputs": [],
   "source": [
    "chunk_size = 500\n",
    "split = 1\n",
    "\n",
    "for chunk in pd.read_csv('Information Technology.csv', chunksize=chunk_size):\n",
    "    chunk.to_csv('Information Technology ' + str(split) + '.csv', index=False)\n",
    "    split += 1"
   ]
  },
  {
   "cell_type": "code",
   "execution_count": 34,
   "id": "14039ace",
   "metadata": {},
   "outputs": [],
   "source": [
    "os.chdir(\"D:\\ABHYAZ INTERNSHIP\\MTC\\Contact List Data\\Manufacturing\")"
   ]
  },
  {
   "cell_type": "code",
   "execution_count": 35,
   "id": "8354ec82",
   "metadata": {},
   "outputs": [],
   "source": [
    "chunk_size = 500\n",
    "split = 1\n",
    "\n",
    "for chunk in pd.read_csv('Manufacturing.csv', chunksize=chunk_size):\n",
    "    chunk.to_csv('Manufacturing ' + str(split) + '.csv', index=False)\n",
    "    split += 1"
   ]
  },
  {
   "cell_type": "code",
   "execution_count": 36,
   "id": "7ad43121",
   "metadata": {},
   "outputs": [],
   "source": [
    "os.chdir(\"D:\\ABHYAZ INTERNSHIP\\MTC\\Contact List Data\\Media\")"
   ]
  },
  {
   "cell_type": "code",
   "execution_count": 37,
   "id": "b4c96a6a",
   "metadata": {},
   "outputs": [],
   "source": [
    "chunk_size = 500\n",
    "split = 1\n",
    "\n",
    "for chunk in pd.read_csv('Media.csv', chunksize=chunk_size):\n",
    "    chunk.to_csv('Media ' + str(split) + '.csv', index=False)\n",
    "    split += 1"
   ]
  },
  {
   "cell_type": "code",
   "execution_count": 38,
   "id": "39436a59",
   "metadata": {},
   "outputs": [],
   "source": [
    "os.chdir(\"D:\\ABHYAZ INTERNSHIP\\MTC\\Contact List Data\\others\")"
   ]
  },
  {
   "cell_type": "code",
   "execution_count": 39,
   "id": "f7d0b61e",
   "metadata": {},
   "outputs": [],
   "source": [
    "chunk_size = 500\n",
    "split = 1\n",
    "\n",
    "for chunk in pd.read_csv('others.csv', chunksize=chunk_size):\n",
    "    chunk.to_csv('others ' + str(split) + '.csv', index=False)\n",
    "    split += 1"
   ]
  },
  {
   "cell_type": "code",
   "execution_count": 40,
   "id": "f0ac7dd0",
   "metadata": {},
   "outputs": [],
   "source": [
    "os.chdir(\"D:\\ABHYAZ INTERNSHIP\\MTC\\contact list data\\Professional\")"
   ]
  },
  {
   "cell_type": "code",
   "execution_count": 41,
   "id": "09544544",
   "metadata": {},
   "outputs": [],
   "source": [
    "chunk_size = 500\n",
    "split = 1\n",
    "\n",
    "for chunk in pd.read_csv('Professional.csv', chunksize=chunk_size):\n",
    "    chunk.to_csv('Professional ' + str(split) + '.csv', index=False)\n",
    "    split += 1"
   ]
  },
  {
   "cell_type": "code",
   "execution_count": 42,
   "id": "3388ebdc",
   "metadata": {},
   "outputs": [],
   "source": [
    "os.chdir(\"D:\\ABHYAZ INTERNSHIP\\MTC\\Contact List Data\\Telecom\")"
   ]
  },
  {
   "cell_type": "code",
   "execution_count": 43,
   "id": "099ef6ea",
   "metadata": {},
   "outputs": [],
   "source": [
    "chunk_size = 500\n",
    "split = 1\n",
    "\n",
    "for chunk in pd.read_csv('Telecom.csv', chunksize=chunk_size):\n",
    "    chunk.to_csv('Telecom ' + str(split) + '.csv', index=False)\n",
    "    split += 1"
   ]
  },
  {
   "cell_type": "code",
   "execution_count": 44,
   "id": "3e2d7a9c",
   "metadata": {},
   "outputs": [],
   "source": [
    "os.chdir(\"D:\\ABHYAZ INTERNSHIP\\MTC\\Contact List Data\\Trade\")"
   ]
  },
  {
   "cell_type": "code",
   "execution_count": 45,
   "id": "b7207c78",
   "metadata": {},
   "outputs": [],
   "source": [
    "chunk_size = 500\n",
    "split = 1\n",
    "\n",
    "for chunk in pd.read_csv('Trade.csv', chunksize=chunk_size):\n",
    "    chunk.to_csv('Trade ' + str(split) + '.csv', index=False)\n",
    "    split += 1"
   ]
  },
  {
   "cell_type": "code",
   "execution_count": 46,
   "id": "c40a74fc",
   "metadata": {},
   "outputs": [],
   "source": [
    "os.chdir(\"D:\\\\ABHYAZ INTERNSHIP\\\\MTC\\\\Contact List Data\\\\Utility\")"
   ]
  },
  {
   "cell_type": "code",
   "execution_count": 47,
   "id": "7ffb88cc",
   "metadata": {},
   "outputs": [],
   "source": [
    "chunk_size = 500\n",
    "split = 1\n",
    "\n",
    "for chunk in pd.read_csv('Utility.csv', chunksize=chunk_size):\n",
    "    chunk.to_csv('Utility ' + str(split) + '.csv', index=False)\n",
    "    split += 1"
   ]
  },
  {
   "cell_type": "code",
   "execution_count": null,
   "id": "3f4b958f",
   "metadata": {},
   "outputs": [],
   "source": []
  },
  {
   "cell_type": "code",
   "execution_count": null,
   "id": "38389904",
   "metadata": {},
   "outputs": [],
   "source": []
  },
  {
   "cell_type": "code",
   "execution_count": null,
   "id": "0370a871",
   "metadata": {},
   "outputs": [],
   "source": []
  }
 ],
 "metadata": {
  "kernelspec": {
   "display_name": "Python 3 (ipykernel)",
   "language": "python",
   "name": "python3"
  },
  "language_info": {
   "codemirror_mode": {
    "name": "ipython",
    "version": 3
   },
   "file_extension": ".py",
   "mimetype": "text/x-python",
   "name": "python",
   "nbconvert_exporter": "python",
   "pygments_lexer": "ipython3",
   "version": "3.9.12"
  }
 },
 "nbformat": 4,
 "nbformat_minor": 5
}
